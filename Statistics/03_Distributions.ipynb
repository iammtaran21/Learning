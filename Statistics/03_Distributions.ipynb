{
  "cells": [
    {
      "cell_type": "markdown",
      "metadata": {
        "id": "ty4ftwif05TE"
      },
      "source": [
        "## Random Variable\n",
        "A random variable is a variable whose possible values are numerical outcomes of a random process.\n",
        "\n",
        "Random Process Example: Rolling a die, Flipping a coin, measuring rain  \n",
        "Outcomes of random process is  assigned numbers ie. quantifying the outcomes\n",
        "\n",
        "X is a random process of fliiping a coin.  \n",
        "X = 1 if heads , 0 if tails.\n",
        "\n",
        "\n",
        "There are two types of random variables, discrete and continuous."
      ]
    },
    {
      "cell_type": "markdown",
      "metadata": {
        "id": "7D6dA5TR05TI"
      },
      "source": [
        "## Discrete Random Variables\n",
        "\n",
        "1. Takes on distinct or seperate values.  \n",
        "2. You can count the number of outcomes it can take. Eg: coin flip. \n",
        "3. The probability distribution of a discrete random variable is a list of probabilities associated with each of its possible values.It is called Probability Function or Probability Mass Function. \n",
        "\n",
        "Examples of discrete probability distributions are Bernoulli distribution, Binomial distribution, Poisson distribution etc.\n"
      ]
    },
    {
      "cell_type": "markdown",
      "metadata": {
        "id": "g7ukaM5s05TJ"
      },
      "source": [
        "## Continuous Random Variables\n",
        "\n",
        "1. Takes an infinite number of possible values. \n",
        "2. Any value in an interval  \n",
        "Eg: Weight of an animal in a zoo, height of a student in a class \n",
        "3. It is represented by area under a curve.  \n",
        "    a: The curve has no negative values (p(x)>0 for all x)  \n",
        "    b: The total area under the curve is equal to 1.  \n",
        "    \n",
        "4. The probability distribution of a continuous random variable, is known as probability density functions.\n",
        "5. Examples of continuous probability distributions are normal distribution, exponential distribution, beta distribution, etc.\n",
        "\n",
        "\n"
      ]
    },
    {
      "cell_type": "markdown",
      "metadata": {
        "id": "CkOkS6Tj05TK"
      },
      "source": [
        "![Screen%20Shot%202019-01-21%20at%2012.05.02%20PM.png](attachment:Screen%20Shot%202019-01-21%20at%2012.05.02%20PM.png)"
      ]
    },
    {
      "cell_type": "code",
      "execution_count": null,
      "metadata": {
        "id": "VnVoSc1V05TK"
      },
      "outputs": [],
      "source": [
        "# for inline plots in jupyter\n",
        "%matplotlib inline\n",
        "import matplotlib.pyplot as plt\n",
        "# for latex equations\n",
        "from IPython.display import Math, Latex\n",
        "# for displaying images\n",
        "from IPython.core.display import Image"
      ]
    },
    {
      "cell_type": "code",
      "execution_count": null,
      "metadata": {
        "id": "QWjUlYGi05TL"
      },
      "outputs": [],
      "source": [
        "import seaborn as sns\n",
        "# settings for seaborn plotting style\n",
        "sns.set(color_codes=True)\n",
        "# settings for seaborn plot sizes\n",
        "sns.set(rc={'figure.figsize':(5,5)})"
      ]
    },
    {
      "cell_type": "markdown",
      "metadata": {
        "id": "p_Lw9yzP05TM"
      },
      "source": [
        "# Uniform Distributions"
      ]
    },
    {
      "cell_type": "markdown",
      "metadata": {
        "id": "xMVr8HCg05TM"
      },
      "source": [
        "The uniform distribution is a continuous probability distribution and is concerned with events that are equally likely to occur. "
      ]
    },
    {
      "cell_type": "markdown",
      "metadata": {
        "id": "2cwto-9E05TN"
      },
      "source": [
        "The probability distribution function of the continuous uniform distribution is:\n",
        "\n",
        "![Screen%20Shot%202019-01-21%20at%2012.10.49%20PM.png](attachment:Screen%20Shot%202019-01-21%20at%2012.10.49%20PM.png)\n",
        "\n",
        "The curve describing the distribution is a rectangle, with constant height across the interval and 0 height elsewhere."
      ]
    },
    {
      "cell_type": "code",
      "execution_count": null,
      "metadata": {
        "id": "Pof9j4u005TN"
      },
      "outputs": [],
      "source": [
        "# import uniform distribution\n",
        "from scipy.stats import uniform\n",
        "import warnings\n",
        "warnings.filterwarnings(\"ignore\")"
      ]
    },
    {
      "cell_type": "markdown",
      "metadata": {
        "id": "LREA90k_05TO"
      },
      "source": [
        "The uniform function generates a uniform continuous variable between the specified interval via its loc and scale arguments.   \n",
        "This distribution is constant between loc and loc + scale"
      ]
    },
    {
      "cell_type": "code",
      "execution_count": null,
      "metadata": {
        "id": "gSfW-biX05TP"
      },
      "outputs": [],
      "source": [
        "n = 10000\n",
        "start = 10\n",
        "width = 20"
      ]
    },
    {
      "cell_type": "code",
      "execution_count": null,
      "metadata": {
        "id": "nLptsPcc05TR"
      },
      "outputs": [],
      "source": [
        "data_uniform = uniform.rvs(size=n, loc=start, scale=width)"
      ]
    },
    {
      "cell_type": "code",
      "execution_count": null,
      "metadata": {
        "scrolled": true,
        "id": "OOBojV2e05TS",
        "outputId": "041b77ff-ab3c-4a62-ae53-3242b726a712"
      },
      "outputs": [
        {
          "data": {
            "text/plain": [
              "[Text(0, 0.5, 'Frequency'), Text(0.5, 0, 'Uniform Distribution ')]"
            ]
          },
          "execution_count": 57,
          "metadata": {},
          "output_type": "execute_result"
        },
        {
          "data": {
            "image/png": "[encoded data removed]",
            "text/plain": [
              "<Figure size 360x360 with 1 Axes>"
            ]
          },
          "metadata": {},
          "output_type": "display_data"
        }
      ],
      "source": [
        "ax = sns.distplot(data_uniform,\n",
        "                  bins=100,\n",
        "                  kde=True,\n",
        "                  color='blue',\n",
        "                  hist_kws={\"linewidth\": 15,'alpha':1})\n",
        "ax.set(xlabel='Uniform Distribution ', ylabel='Frequency')"
      ]
    },
    {
      "cell_type": "code",
      "execution_count": null,
      "metadata": {
        "id": "mQw8-QXP05TT"
      },
      "outputs": [],
      "source": [
        "# example 1"
      ]
    },
    {
      "cell_type": "code",
      "execution_count": null,
      "metadata": {
        "id": "g8tcw1cw05TU"
      },
      "outputs": [],
      "source": [
        "# The data in the table below are 55 smiling times, in seconds, of an eight-week-old baby."
      ]
    },
    {
      "cell_type": "markdown",
      "metadata": {
        "id": "SLLp_Sch05TU"
      },
      "source": [
        "![image.png](attachment:image.png)"
      ]
    },
    {
      "cell_type": "code",
      "execution_count": null,
      "metadata": {
        "id": "hUAleDLD05TU"
      },
      "outputs": [],
      "source": [
        "#  sample mean = 11.49 and the sample standard deviation = 6.23."
      ]
    },
    {
      "cell_type": "markdown",
      "metadata": {
        "id": "YDznmvpD05TV"
      },
      "source": [
        "![image.png](attachment:image.png)"
      ]
    },
    {
      "cell_type": "markdown",
      "metadata": {
        "id": "3sQZMKvd05TV"
      },
      "source": [
        "![image.png](attachment:image.png)"
      ]
    },
    {
      "cell_type": "markdown",
      "metadata": {
        "id": "27XzwqgS05TV"
      },
      "source": [
        "# Poisson Distribution\n",
        "\n",
        "1. Poisson random variable is typically used to model the number of times an event happened in a time interval. \n",
        "2. For example, the number of users visited on a website in an interval can be thought of a Poisson process.\n",
        "3. The probability of observing k events in an interval is given by the equation:\n",
        "![Screen%20Shot%202019-01-21%20at%201.12.08%20PM.png](attachment:Screen%20Shot%202019-01-21%20at%201.12.08%20PM.png)\n",
        "The average number of events in an interval is designated λ (lambda). Lambda is the event rate, also called the rate parameter."
      ]
    },
    {
      "cell_type": "markdown",
      "metadata": {
        "id": "2HRlXZ9n05TW"
      },
      "source": [
        "The typical Poisson distribution looks like\n",
        "![Screen%20Shot%202019-01-21%20at%201.13.50%20PM.png](attachment:Screen%20Shot%202019-01-21%20at%201.13.50%20PM.png)"
      ]
    },
    {
      "cell_type": "code",
      "execution_count": null,
      "metadata": {
        "id": "LAp6vOPe05TW"
      },
      "outputs": [],
      "source": [
        "#Example 1"
      ]
    },
    {
      "cell_type": "code",
      "execution_count": null,
      "metadata": {
        "id": "QlxNB4lw05TW"
      },
      "outputs": [],
      "source": [
        "from scipy.stats import poisson\n",
        "data_poisson = poisson.rvs(mu=3, size=10000)"
      ]
    },
    {
      "cell_type": "code",
      "execution_count": null,
      "metadata": {
        "id": "AgUy4Xpz05TX",
        "outputId": "2f0fea43-b269-40a2-c83f-5886c0984dc5"
      },
      "outputs": [
        {
          "data": {
            "text/plain": [
              "[Text(0.5, 0, 'Poisson Distribution'), Text(0, 0.5, 'Frequency')]"
            ]
          },
          "execution_count": 28,
          "metadata": {},
          "output_type": "execute_result"
        },
        {
          "data": {
            "image/png": "[encoded data removed]",
            "text/plain": [
              "<Figure size 360x360 with 1 Axes>"
            ]
          },
          "metadata": {},
          "output_type": "display_data"
        }
      ],
      "source": [
        "ax = sns.distplot(data_poisson,\n",
        "                  bins=30,\n",
        "                  kde=True,\n",
        "                  color='skyblue',\n",
        "                  hist_kws={\"linewidth\": 15,'alpha':1})\n",
        "ax.set(xlabel='Poisson Distribution', ylabel='Frequency')"
      ]
    },
    {
      "cell_type": "code",
      "execution_count": null,
      "metadata": {
        "id": "IuPYbz0705TX"
      },
      "outputs": [],
      "source": [
        "#Example 2"
      ]
    },
    {
      "cell_type": "markdown",
      "metadata": {
        "id": "4lcsv0XH05TY"
      },
      "source": [
        "The number of work-related injuries per month in a manufacturing plant is known to follow a Poisson distribution, with a mean of 2.5 work-related injuries a month. What is the probability that in a given month, a) No work related injuries occur? b) At least one work-related injury occurs?"
      ]
    },
    {
      "cell_type": "markdown",
      "metadata": {
        "id": "QE8IZbjE05TY"
      },
      "source": [
        "Here,  λ  = 2.5 injuries"
      ]
    },
    {
      "cell_type": "code",
      "execution_count": null,
      "metadata": {
        "id": "CbJzaT4v05TZ",
        "outputId": "74b4e25c-f4c8-46f1-809c-9f63353a9501"
      },
      "outputs": [
        {
          "data": {
            "text/plain": [
              "array([8.20849986e-02, 2.05212497e-01, 2.56515621e-01, 2.13763017e-01,\n",
              "       1.33601886e-01, 6.68009429e-02, 2.78337262e-02, 9.94061650e-03,\n",
              "       3.10644266e-03, 8.62900738e-04, 2.15725184e-04, 4.90284510e-05,\n",
              "       1.02142606e-05, 1.96428089e-06, 3.50764445e-07, 5.84607408e-08,\n",
              "       9.13449075e-09, 1.34330746e-09, 1.86570481e-10, 2.45487475e-11])"
            ]
          },
          "execution_count": 30,
          "metadata": {},
          "output_type": "execute_result"
        }
      ],
      "source": [
        "import numpy as np\n",
        "from scipy import stats\n",
        "rate =  2.5 # which is the mean\n",
        "n    =  np.arange(0,20)\n",
        "poisson = stats.poisson.pmf(n,rate)\n",
        "poisson"
      ]
    },
    {
      "cell_type": "code",
      "execution_count": null,
      "metadata": {
        "id": "EB4lnEfC05Ta",
        "outputId": "2d754ba5-d629-4fdd-8a7d-8956c4586eda"
      },
      "outputs": [
        {
          "name": "stdout",
          "output_type": "stream",
          "text": [
            " a) Probability that No work related injuries occur is 0.0821\n"
          ]
        }
      ],
      "source": [
        "print(' a) Probability that No work related injuries occur is %1.4f' % poisson[0])"
      ]
    },
    {
      "cell_type": "markdown",
      "metadata": {
        "id": "Qi0_fYii05Ta"
      },
      "source": [
        "To calculate the probability that at least one work-related injury occurs, we need to subtract probability of no work related injury from 1."
      ]
    },
    {
      "cell_type": "code",
      "execution_count": null,
      "metadata": {
        "id": "2-DWM_Dd05Ta",
        "outputId": "2d92d175-2222-4719-f175-75443d466449"
      },
      "outputs": [
        {
          "name": "stdout",
          "output_type": "stream",
          "text": [
            " b) Probability that that at least one work-related injury occurs is 0.9179\n"
          ]
        }
      ],
      "source": [
        "# P = probability that at least one work-related injury occurs\n",
        "P   = 1 - poisson[0]\n",
        "print(' b) Probability that that at least one work-related injury occurs is %1.4f' % P)"
      ]
    },
    {
      "cell_type": "code",
      "execution_count": null,
      "metadata": {
        "id": "BWmP0UH305Ta",
        "outputId": "c0f67271-4641-44fe-8ec2-48799a746590"
      },
      "outputs": [
        {
          "data": {
            "image/png": "[encoded data removed]",
            "text/plain": [
              "<Figure size 360x360 with 1 Axes>"
            ]
          },
          "metadata": {},
          "output_type": "display_data"
        }
      ],
      "source": [
        "plt.plot(n,poisson, 'o-')\n",
        "plt.title('Poisson')\n",
        "plt.xlabel('Number of Work related injuries')\n",
        "plt.ylabel('Prob of Work related injuries')\n",
        "plt.show()"
      ]
    },
    {
      "cell_type": "markdown",
      "metadata": {
        "id": "ChERad-205Tb"
      },
      "source": [
        "#Example 3"
      ]
    },
    {
      "cell_type": "markdown",
      "metadata": {
        "id": "_rMVOkcg05Tb"
      },
      "source": [
        "A Life Insurance agent sells on the average 3 life insurance policies per week. Use the Poisson law to calculate the probability that in a given week, he will sell a. Some policies b. 2 or more but less than 5 policies?"
      ]
    },
    {
      "cell_type": "code",
      "execution_count": null,
      "metadata": {
        "id": "VLKZky-q05Tb"
      },
      "outputs": [],
      "source": [
        "rate =  3 # which is the mean\n",
        "n    =  np.arange(0,16)\n",
        "cumpoisson = stats.poisson.cdf(n,rate)"
      ]
    },
    {
      "cell_type": "code",
      "execution_count": null,
      "metadata": {
        "id": "YwR5dAbz05Tb",
        "outputId": "aba7e705-f169-4559-83ad-6aabc5ab212b"
      },
      "outputs": [
        {
          "name": "stdout",
          "output_type": "stream",
          "text": [
            " a) Probability that the agent sells some policies is 0.9502\n"
          ]
        }
      ],
      "source": [
        "# P = probability that the agent sells some policies\n",
        "P   = 1 - cumpoisson[0]\n",
        "print(' a) Probability that the agent sells some policies is %1.4f' % P)"
      ]
    },
    {
      "cell_type": "markdown",
      "metadata": {
        "id": "OOixORUj05Tc"
      },
      "source": [
        "b. Agent sells 2 or more but less than 5 policies"
      ]
    },
    {
      "cell_type": "code",
      "execution_count": null,
      "metadata": {
        "id": "sBMY8hSe05Tc",
        "outputId": "c8eb32e7-a330-4979-f7aa-4af30f54297b"
      },
      "outputs": [
        {
          "name": "stdout",
          "output_type": "stream",
          "text": [
            " b) Probability that the agent sells between 2 and 5 policies is 0.6161\n"
          ]
        }
      ],
      "source": [
        "# Let P1 be the probability that the agent sells more than 4 policies\n",
        "P1 = cumpoisson[4] # P(X >=4)\n",
        "# Let P2 be the probability that the agent sells more than 1 policy\n",
        "P2 = cumpoisson[1] # P(X >=1)\n",
        "P = P1 - P2 # Prob. that the agent will sell between 2 and 5 policies\n",
        "print(' b) Probability that the agent sells between 2 and 5 policies is %1.4f' % P)"
      ]
    },
    {
      "cell_type": "code",
      "execution_count": null,
      "metadata": {
        "id": "89bWnCA_05Tc",
        "outputId": "7ac7025f-888b-4fb5-e3af-1065dfef940f"
      },
      "outputs": [
        {
          "data": {
            "image/png": "[encoded data removed]",
            "text/plain": [
              "<Figure size 360x360 with 1 Axes>"
            ]
          },
          "metadata": {},
          "output_type": "display_data"
        }
      ],
      "source": [
        "poisson = stats.poisson.pmf(n,rate)\n",
        "plt.plot(n,poisson, 'o-')\n",
        "plt.title('Poisson')\n",
        "plt.xlabel('Number of Policies sold per week')\n",
        "plt.ylabel('Cumulative Prob of Policies sold per week')\n",
        "plt.show()"
      ]
    },
    {
      "cell_type": "markdown",
      "metadata": {
        "id": "l6jEDyxF05Tc"
      },
      "source": [
        "## Binomial Distribution\n",
        "\n",
        "1. A distribution where only two outcomes are possible, such as success or failure, gain or loss, win or lose\n",
        "2. the probability of success and failure is same for all the trials is called a Binomial Distribution.\n",
        "3. The parameters of a binomial distribution are n and p where n is the total number of trials, and p is the probability of success in each trial."
      ]
    },
    {
      "cell_type": "markdown",
      "metadata": {
        "id": "QWeJ5tz105Td"
      },
      "source": [
        "The probability distribution function is given by \n",
        "![Screen%20Shot%202019-01-21%20at%201.18.22%20PM.png](attachment:Screen%20Shot%202019-01-21%20at%201.18.22%20PM.png)"
      ]
    },
    {
      "cell_type": "code",
      "execution_count": null,
      "metadata": {
        "id": "1BOO3uIE05Td"
      },
      "outputs": [],
      "source": [
        "from scipy.stats import binom\n",
        "data_binom = binom.rvs(n=20,p=0.8,size=10000)"
      ]
    },
    {
      "cell_type": "code",
      "execution_count": null,
      "metadata": {
        "id": "ypf1_SGX05Td",
        "outputId": "29883afe-b818-49d2-d743-afdd12e5c401"
      },
      "outputs": [
        {
          "data": {
            "text/plain": [
              "[Text(0,0.5,'Frequency'), Text(0.5,0,'Binomial Distribution')]"
            ]
          },
          "execution_count": 39,
          "metadata": {},
          "output_type": "execute_result"
        },
        {
          "data": {
            "image/png": "[encoded data removed]",
            "text/plain": [
              "<Figure size 360x360 with 1 Axes>"
            ]
          },
          "metadata": {},
          "output_type": "display_data"
        }
      ],
      "source": [
        "ax = sns.distplot(data_binom,\n",
        "                  kde=False,\n",
        "                  color='blue',\n",
        "                  hist_kws={\"linewidth\": 15,'alpha':1})\n",
        "ax.set(xlabel='Binomial Distribution', ylabel='Frequency')\n"
      ]
    },
    {
      "cell_type": "code",
      "execution_count": null,
      "metadata": {
        "id": "xw82XFZ605Td"
      },
      "outputs": [],
      "source": [
        "# Binomial distribution - Example"
      ]
    },
    {
      "cell_type": "markdown",
      "metadata": {
        "id": "uCmagN5I05Td"
      },
      "source": [
        "A LED bulb manufacturing company regularly conducts quality checks at specified periods on the products it manufactures. Historically, the failure rate for LED light bulbs that the company manufactures is 5%. Suppose a random sample of 10 LED light bulbs is selected. What is the probability that\n",
        "\n",
        "a) None of the LED bulbs are defective?\n",
        "b) Exactly one of the LED bulbs is defective?\n",
        "c) Two or fewer of the LED bulbs are defective?\n",
        "d) Three or more of the LED bulbs are defective"
      ]
    },
    {
      "cell_type": "code",
      "execution_count": null,
      "metadata": {
        "id": "J9mmSYqV05Te"
      },
      "outputs": [],
      "source": [
        "import numpy             as np\n",
        "import pandas            as pd\n",
        "import scipy.stats       as stats\n",
        "import matplotlib.pyplot as plt"
      ]
    },
    {
      "cell_type": "code",
      "execution_count": null,
      "metadata": {
        "id": "RESXCJBU05Te"
      },
      "outputs": [],
      "source": [
        "p   =  0.05 # failure rate for LED light bulbs that the company manufactures is 5%\n",
        "n   =  10 # sample size\n",
        "k   =  np.arange(0,11) # An array of quantiles"
      ]
    },
    {
      "cell_type": "code",
      "execution_count": null,
      "metadata": {
        "id": "bl1e1WCl05Te"
      },
      "outputs": [],
      "source": [
        "binomial = stats.binom.pmf(k,n,p)"
      ]
    },
    {
      "cell_type": "code",
      "execution_count": null,
      "metadata": {
        "id": "Fv1Yyf3805Te",
        "outputId": "f98e1a37-ef5b-47d2-8c7d-f9b5751f2ebc"
      },
      "outputs": [
        {
          "name": "stdout",
          "output_type": "stream",
          "text": [
            "[5.98736939e-01 3.15124705e-01 7.46347985e-02 1.04750594e-02\n",
            " 9.64808106e-04 6.09352488e-05 2.67259863e-06 8.03789063e-08\n",
            " 1.58642578e-09 1.85546875e-11 9.76562500e-14]\n"
          ]
        }
      ],
      "source": [
        "print(binomial)"
      ]
    },
    {
      "cell_type": "code",
      "execution_count": null,
      "metadata": {
        "id": "EbgBIrBG05Te",
        "outputId": "4e1ffa73-7a07-43ed-fc68-064290e7bdc4"
      },
      "outputs": [
        {
          "name": "stdout",
          "output_type": "stream",
          "text": [
            "a) None of the LED bulbs are defective? is 0.5987\n"
          ]
        }
      ],
      "source": [
        "print('a) None of the LED bulbs are defective? is %1.4f' %binomial[0])"
      ]
    },
    {
      "cell_type": "code",
      "execution_count": null,
      "metadata": {
        "id": "RTAhvBjU05Tf",
        "outputId": "2f488ab5-23aa-41a7-a240-2c376fc07a12"
      },
      "outputs": [
        {
          "name": "stdout",
          "output_type": "stream",
          "text": [
            "b) Exactly one of the LED bulbs is defective? is 0.3151\n"
          ]
        }
      ],
      "source": [
        "print('b) Exactly one of the LED bulbs is defective? is %1.4f' %binomial[1])"
      ]
    },
    {
      "cell_type": "markdown",
      "metadata": {
        "id": "hOo68IvF05Tf"
      },
      "source": [
        "To answer the question c) Two or fewer of the LED bulbs are defective? we need to calculate cumulative probability of Upto Two LED bulbs being defective"
      ]
    },
    {
      "cell_type": "code",
      "execution_count": null,
      "metadata": {
        "id": "pJRiDRaW05Tf",
        "outputId": "ad78f384-7118-4045-a1d1-50032a285ad4"
      },
      "outputs": [
        {
          "name": "stdout",
          "output_type": "stream",
          "text": [
            "[0.59873694 0.91386164 0.98849644 0.9989715  0.99993631 0.99999725\n",
            " 0.99999992 1.         1.         1.         1.        ]\n"
          ]
        }
      ],
      "source": [
        "cumbinomial = stats.binom.cdf(k,n,p)\n",
        "print(cumbinomial)"
      ]
    },
    {
      "cell_type": "code",
      "execution_count": null,
      "metadata": {
        "id": "ujgNiHOd05Tf",
        "outputId": "a1e586c4-2005-4203-ba16-993b07eee0d9"
      },
      "outputs": [
        {
          "name": "stdout",
          "output_type": "stream",
          "text": [
            "c) Two or fewer of the LED bulbs are defective? is 0.9885\n"
          ]
        }
      ],
      "source": [
        "print('c) Two or fewer of the LED bulbs are defective? is %1.4f' %cumbinomial[2])"
      ]
    },
    {
      "cell_type": "markdown",
      "metadata": {
        "id": "zG76GoOc05Tf"
      },
      "source": [
        "To answer the question d) Three or more of the LED bulbs are defective, we need to subtract cumulative Probability upto 2 defective LED bulbs from 1."
      ]
    },
    {
      "cell_type": "code",
      "execution_count": null,
      "metadata": {
        "id": "hCUtLp2l05Tg",
        "outputId": "111df36d-ac99-4f17-b5af-84aa73db72d4"
      },
      "outputs": [
        {
          "name": "stdout",
          "output_type": "stream",
          "text": [
            "d) Three or more of the LED bulbs are defective is 0.0115\n"
          ]
        }
      ],
      "source": [
        "P = 1- cumbinomial[2]\n",
        "print('d) Three or more of the LED bulbs are defective is %1.4f' % P)"
      ]
    },
    {
      "cell_type": "code",
      "execution_count": null,
      "metadata": {
        "id": "am0Oyck105Tg",
        "outputId": "f32d61f6-a90c-41b1-fc52-eca3fa90494f"
      },
      "outputs": [
        {
          "data": {
            "image/png": "[encoded data removed]",
            "text/plain": [
              "<Figure size 360x360 with 1 Axes>"
            ]
          },
          "metadata": {},
          "output_type": "display_data"
        }
      ],
      "source": [
        "#plot binomial distribution\n",
        "plt.plot(k,binomial, 'o-')\n",
        "plt.title('Binomial')\n",
        "plt.xlabel('Number of Def LED bulbs')\n",
        "plt.ylabel('Prob of Defective LED bulbs')\n",
        "plt.show()"
      ]
    },
    {
      "cell_type": "markdown",
      "metadata": {
        "id": "yoO4M-wE05Tg"
      },
      "source": [
        "Example 2\n",
        "The percentage of orders filled correctly at Wendy's was approximately 86.8%. Suppose that you go to drive-through window at Wendy's and place an order. Two friends of yours independently place orders at the drive-through window at the same Wendy's.\n",
        "\n",
        "What are the probabilities that\n",
        "\n",
        "a) all three\n",
        "b) none of the three\n",
        "c) atleast two of the three orders will be filled correctly?\n",
        "d) what is the mean and standard deviation of the orders filled correctly?"
      ]
    },
    {
      "cell_type": "code",
      "execution_count": null,
      "metadata": {
        "id": "SvurscSM05Tg"
      },
      "outputs": [],
      "source": [
        "p   =  0.868 # percentage of orders filled correctly at Wendy's was approximately 86.8%\n",
        "n   =  3\n",
        "k   =  np.arange(0,4)"
      ]
    },
    {
      "cell_type": "code",
      "execution_count": null,
      "metadata": {
        "id": "t_xJt5Ng05Tg",
        "outputId": "77ca0387-5a0d-4743-d54e-f5471c411215"
      },
      "outputs": [
        {
          "name": "stdout",
          "output_type": "stream",
          "text": [
            "[0.00229997 0.0453721  0.2983559  0.65397203]\n"
          ]
        }
      ],
      "source": [
        "binomial = stats.binom.pmf(k,n,p)\n",
        "print(binomial)"
      ]
    },
    {
      "cell_type": "code",
      "execution_count": null,
      "metadata": {
        "id": "KTLA0Q3t05Th",
        "outputId": "4f777bbe-9c00-4470-b045-878f178c553d"
      },
      "outputs": [
        {
          "name": "stdout",
          "output_type": "stream",
          "text": [
            "a) all the three orders are filled correctly? is 0.6540\n"
          ]
        }
      ],
      "source": [
        "print('a) all the three orders are filled correctly? is %1.4f' %binomial[3])"
      ]
    },
    {
      "cell_type": "code",
      "execution_count": null,
      "metadata": {
        "id": "RA0Dos0n05Th",
        "outputId": "0ed53270-226c-4750-d1b9-ff000cb6f4c0"
      },
      "outputs": [
        {
          "name": "stdout",
          "output_type": "stream",
          "text": [
            "b) none of the three orders are filled correctly? is 0.0023\n"
          ]
        }
      ],
      "source": [
        "print('b) none of the three orders are filled correctly? is %1.4f' %binomial[0])"
      ]
    },
    {
      "cell_type": "markdown",
      "metadata": {
        "id": "RDOw5rj105Th"
      },
      "source": [
        "To answer this question c) atleast two of the three orders are filled correctly, we need to find out 1 - Probability of upto 1 failure"
      ]
    },
    {
      "cell_type": "code",
      "execution_count": null,
      "metadata": {
        "id": "tpguEEXS05Th",
        "outputId": "d8273892-6d59-4ee1-c690-875501d2e69b"
      },
      "outputs": [
        {
          "name": "stdout",
          "output_type": "stream",
          "text": [
            "[0.00229997 0.04767206 0.34602797 1.        ]\n"
          ]
        }
      ],
      "source": [
        "cumbinomial = stats.binom.cdf(k,n,p)\n",
        "print(cumbinomial)"
      ]
    },
    {
      "cell_type": "code",
      "execution_count": null,
      "metadata": {
        "id": "4jE4xqWj05Ti",
        "outputId": "45c058ab-ca2f-4b20-bc82-f749ee9d077f"
      },
      "outputs": [
        {
          "name": "stdout",
          "output_type": "stream",
          "text": [
            "c) atleast two of the three orders are filled correctly? is 0.9523\n"
          ]
        }
      ],
      "source": [
        "P = 1 - cumbinomial[1]\n",
        "print('c) atleast two of the three orders are filled correctly? is %1.4f' % P)"
      ]
    },
    {
      "cell_type": "code",
      "execution_count": null,
      "metadata": {
        "id": "SjzUUPOv05Ti",
        "outputId": "0feaa203-fb84-4c75-d045-0623aa432fcc"
      },
      "outputs": [
        {
          "name": "stdout",
          "output_type": "stream",
          "text": [
            "mean and standard deviation of the orders filled correctly are 2.6040 and  0.5863 respectively\n"
          ]
        }
      ],
      "source": [
        "# d) what is the mean and standard deviation of the orders filled correctly?\n",
        "p    = 0.868\n",
        "n    = 3\n",
        "mean = n* p # = 3 * 0.868\n",
        "sd   = np.sqrt(n * p * (1 - p))\n",
        "print('mean and standard deviation of the orders filled correctly are %1.4f and  %1.4f respectively' % (mean, sd))"
      ]
    },
    {
      "cell_type": "code",
      "execution_count": null,
      "metadata": {
        "id": "sIN1n1L405Ti",
        "outputId": "f4863c71-3e88-4945-eb9a-f9e7500d8362"
      },
      "outputs": [
        {
          "data": {
            "image/png": "[encoded data removed]",
            "text/plain": [
              "<Figure size 432x288 with 1 Axes>"
            ]
          },
          "metadata": {
            "needs_background": "light"
          },
          "output_type": "display_data"
        }
      ],
      "source": [
        "plt.plot(k,binomial, 'o-')\n",
        "plt.title('Binomial')\n",
        "plt.xlabel('Number of Orders filled correctly')\n",
        "plt.ylabel('Prob of Orders filled correctly')\n",
        "plt.show()"
      ]
    },
    {
      "cell_type": "markdown",
      "metadata": {
        "id": "-abW8dwk05Tj"
      },
      "source": [
        "## Bernoulli distribution\n",
        "1. A Bernoulli distribution has only two possible outcomes, namely 1 (success) and 0 (failure), and a single trial, for example, a coin toss.\n",
        "2. The probabilities of success and failure need not be equally likely.\n",
        "3. The Bernoulli distribution is a special case of the binomial distribution where a single trial is conducted (n=1)."
      ]
    },
    {
      "cell_type": "markdown",
      "metadata": {
        "id": "REMv-pvW05Tj"
      },
      "source": [
        "Its probability mass function is given by:\n",
        "\n",
        "![Screen%20Shot%202019-01-21%20at%201.24.03%20PM.png](attachment:Screen%20Shot%202019-01-21%20at%201.24.03%20PM.png)"
      ]
    },
    {
      "cell_type": "code",
      "execution_count": null,
      "metadata": {
        "id": "1oIF4eYS05Tk"
      },
      "outputs": [],
      "source": [
        "from scipy.stats import bernoulli\n",
        "import seaborn as sb\n"
      ]
    },
    {
      "cell_type": "code",
      "execution_count": null,
      "metadata": {
        "id": "K2GGkq6w05Tk",
        "outputId": "0caf866c-225e-495d-c9f1-1af21d4706fc"
      },
      "outputs": [
        {
          "data": {
            "text/plain": [
              "[Text(0,0.5,'Frequency'), Text(0.5,0,'Bernouli')]"
            ]
          },
          "execution_count": 60,
          "metadata": {},
          "output_type": "execute_result"
        },
        {
          "data": {
            "image/png": "[encoded data removed]",
            "text/plain": [
              "<Figure size 432x288 with 1 Axes>"
            ]
          },
          "metadata": {
            "needs_background": "light"
          },
          "output_type": "display_data"
        }
      ],
      "source": [
        "\n",
        "data_bern = bernoulli.rvs(size=1000,p=0.5)\n",
        "ax = sb.distplot(data_bern,\n",
        "                  kde=True,\n",
        "                  color='crimson',\n",
        "                  hist_kws={\"linewidth\": 25,'alpha':1})\n",
        "ax.set(xlabel='Bernouli', ylabel='Frequency')"
      ]
    },
    {
      "cell_type": "markdown",
      "metadata": {
        "id": "fkon0hRo05Tk"
      },
      "source": [
        "# Normal Distributions\n",
        "\n",
        "1. Normal Distribution, also known as Gaussian distribution  \n",
        "2. A normal distribution has a bell-shaped density curve described by its mean μ and standard deviation σ. \n",
        "3. The density curve is symmetrical, centered about its mean, with its spread determined by its standard deviation showing that data near the mean are more frequent in occurrence than data far from the mean. "
      ]
    },
    {
      "cell_type": "markdown",
      "metadata": {
        "id": "Vsn4rwp105Tk"
      },
      "source": [
        "The probability distribution function of a normal density curve with mean μ and standard deviation σ at a given point x is given by:\n",
        "\n",
        "![Screen%20Shot%202019-01-21%20at%2012.44.45%20PM.png](attachment:Screen%20Shot%202019-01-21%20at%2012.44.45%20PM.png)"
      ]
    },
    {
      "cell_type": "markdown",
      "metadata": {
        "id": "VW2PeEo705Tl"
      },
      "source": [
        "![Screen%20Shot%202019-01-21%20at%2012.45.20%20PM.png](attachment:Screen%20Shot%202019-01-21%20at%2012.45.20%20PM.png)\n",
        "\n",
        "1. Almost 68% of the data falls with 1 std. dev from mean.  \n",
        "2. 95% falls with 2 std. deviations.  \n",
        "3. A distribution with mean 0 and standard deviation 1 is called a standard normal distribution."
      ]
    },
    {
      "cell_type": "code",
      "execution_count": null,
      "metadata": {
        "id": "y6OpeIOh05Tl"
      },
      "outputs": [],
      "source": [
        "from scipy.stats import norm\n",
        "# generate random numbers from N(0,1)\n",
        "data_normal = norm.rvs(size=10000,loc=0,scale=1)"
      ]
    },
    {
      "cell_type": "code",
      "execution_count": null,
      "metadata": {
        "id": "bBrS1XSp05Tl",
        "outputId": "51373753-7862-45ff-cec6-002ea5248bdc"
      },
      "outputs": [
        {
          "data": {
            "text/plain": [
              "[Text(0, 0.5, 'Frequency'), Text(0.5, 0, 'Normal Distribution')]"
            ]
          },
          "execution_count": 62,
          "metadata": {},
          "output_type": "execute_result"
        },
        {
          "data": {
            "image/png": "[encoded data removed]",
            "text/plain": [
              "<Figure size 360x360 with 1 Axes>"
            ]
          },
          "metadata": {},
          "output_type": "display_data"
        }
      ],
      "source": [
        "ax = sns.distplot(data_normal,\n",
        "                  bins=100,\n",
        "                  kde=True,\n",
        "                  color='b',\n",
        "                  hist_kws={\"linewidth\": 15,'alpha':1, \"color\": \"y\"})\n",
        "ax.set(xlabel='Normal Distribution', ylabel='Frequency')"
      ]
    },
    {
      "cell_type": "code",
      "execution_count": null,
      "metadata": {
        "id": "OLbPlDcF05Tm"
      },
      "outputs": [],
      "source": [
        "#Example 1"
      ]
    },
    {
      "cell_type": "markdown",
      "metadata": {
        "id": "BsbbNWqL05Tm"
      },
      "source": [
        "A survey on use of smart phones in India was conducted and it is observed the smart phone users spend 68 minutes in a day on average in sending messages and the corresponding standard deviation is 12 minutes.\n",
        "\n",
        "Assume that the time spent in sending messages follows a normal distribution.\n",
        "a) What proportion of the smart phone users are spending more than 90 minutes in sending messages daily?\n",
        "b) What proportion of customers are spending less than 20 minutes?\n",
        "c) What proportion of customers are spending between 50 minutes and 100 minutes?"
      ]
    },
    {
      "cell_type": "code",
      "execution_count": null,
      "metadata": {
        "id": "LgSsBuqI05Tm"
      },
      "outputs": [],
      "source": [
        "mu    = 68 # minutes \n",
        "sigma = 12"
      ]
    },
    {
      "cell_type": "markdown",
      "metadata": {
        "id": "IK3J7M_x05Tn"
      },
      "source": [
        "Compute Z by subtracting the mean, mu from a normally distributed variable, divide by the standard deviation, sigma"
      ]
    },
    {
      "cell_type": "code",
      "execution_count": null,
      "metadata": {
        "id": "S72wNAbx05Tn",
        "outputId": "60c8d647-9476-4b3b-e782-1a9fd63bec0f"
      },
      "outputs": [
        {
          "name": "stdout",
          "output_type": "stream",
          "text": [
            " a. Proportion of the smart phone users are spending more than 90 minutes in sending messages daily is 0.0334\n"
          ]
        }
      ],
      "source": [
        "# a. What proportion of the smart phone users are spending more than 90 minutes in sending messages daily?\n",
        "z  = (90 - mu) / sigma # X = 90\n",
        "P  = 1 - stats.norm.cdf(z)\n",
        "print(' a. Proportion of the smart phone users are spending more than 90 minutes in sending messages daily is %1.4f' % P)"
      ]
    },
    {
      "cell_type": "code",
      "execution_count": null,
      "metadata": {
        "id": "4cDcL4G405To",
        "outputId": "0bb09ee2-3640-4b39-ec0d-361a34d4442d"
      },
      "outputs": [
        {
          "name": "stdout",
          "output_type": "stream",
          "text": [
            " b) What proportion of customers are spending less than 20 minutes is 0.0000317\n"
          ]
        }
      ],
      "source": [
        "# b) What proportion of customers are spending less than 20 minutes?\n",
        "z1  =  (20 - mu) / sigma # X = 20\n",
        "P   =  stats.norm.cdf(z1)\n",
        "print(' b) What proportion of customers are spending less than 20 minutes is %1.7f' % P)\n"
      ]
    },
    {
      "cell_type": "code",
      "execution_count": null,
      "metadata": {
        "id": "bPUNtU9t05Tp",
        "outputId": "00e5fce3-bd52-4dcc-84e5-4f264909ff71"
      },
      "outputs": [
        {
          "name": "stdout",
          "output_type": "stream",
          "text": [
            " c) proportion of customers are spending between 50 minutes and 100 minutes is 0.9294\n"
          ]
        }
      ],
      "source": [
        "# c) What proportion of customers are spending between 50 minutes and 100 minutes?\n",
        "z1  =  (50 - mu) / sigma   # X = 50\n",
        "z2  =  (100 - mu) / sigma  # X = 100\n",
        "P1   =  stats.norm.cdf(z1)\n",
        "P2   =  stats.norm.cdf(z2)\n",
        "P    =  P2 - P1\n",
        "print(' c) proportion of customers are spending between 50 minutes and 100 minutes is %1.4f' % P)"
      ]
    },
    {
      "cell_type": "code",
      "execution_count": null,
      "metadata": {
        "id": "KHhWGK2Z05Tp"
      },
      "outputs": [],
      "source": [
        "#Example 2"
      ]
    },
    {
      "cell_type": "markdown",
      "metadata": {
        "id": "QWGEtvck05Tp"
      },
      "source": [
        "The mean salaries of Data Scientists working in Chennai, India is calculated to be 7,00,000 INR with a standard deviation of 90,000 INR. The random variable salary of Data Scientists follows a normal distribution.\n",
        "\n",
        "a) What is the probability that a Data Scientist in Chennai has a salary more than 10,00,000 INR?\n",
        "b) What is the probability that a Data Scientist in Chennai has a salary between 6,00,000 & 9,00,000 INR?\n",
        "c) What is the probability that a Data Scientist in Chennai has a salary less than 4,00,000 INR?"
      ]
    },
    {
      "cell_type": "code",
      "execution_count": null,
      "metadata": {
        "id": "Nt-_l9JZ05Tp"
      },
      "outputs": [],
      "source": [
        "# a) What is the probability that a Data Scientist in Chennai has a salary more than 10,00,000 INR?\n",
        "mu    =  700000\n",
        "sigma =  90000\n",
        "z=(1000000-mu) / sigma "
      ]
    },
    {
      "cell_type": "code",
      "execution_count": null,
      "metadata": {
        "id": "q40WSXvr05Tq",
        "outputId": "6fab9551-f027-452d-c11b-6c0431664389"
      },
      "outputs": [
        {
          "name": "stdout",
          "output_type": "stream",
          "text": [
            " a) Probability that a Data Scientist in Chennai has a salary more than 10,00,000 is 0.0004\n"
          ]
        }
      ],
      "source": [
        "P = 1 - stats.norm.cdf(z)\n",
        "print(' a) Probability that a Data Scientist in Chennai has a salary more than 10,00,000 is %1.4f' % P)"
      ]
    },
    {
      "cell_type": "code",
      "execution_count": null,
      "metadata": {
        "id": "0Qb9q1Lz05Tq"
      },
      "outputs": [],
      "source": [
        "# b) What is the probability that a Data Scientist in Chennai has a salary between 6,00,000 & 9,00,000 INR?\n",
        "z1= (600000-mu) / sigma\n",
        "z2= (900000-mu) / sigma"
      ]
    },
    {
      "cell_type": "code",
      "execution_count": null,
      "metadata": {
        "id": "ViboE66p05Tq",
        "outputId": "99bc523f-71a1-4ec8-e690-98c6c60fd3cf"
      },
      "outputs": [
        {
          "name": "stdout",
          "output_type": "stream",
          "text": [
            " b) probability that a Data Scientist in Chennai has a salary between 6,00,000 & 9,00,000 INR is 0.8536\n"
          ]
        }
      ],
      "source": [
        "P = stats.norm.cdf(z2) - stats.norm.cdf(z1)\n",
        "print(' b) probability that a Data Scientist in Chennai has a salary between 6,00,000 & 9,00,000 INR is %1.4f' % P)"
      ]
    },
    {
      "cell_type": "code",
      "execution_count": null,
      "metadata": {
        "id": "SYFk6mUt05Tq"
      },
      "outputs": [],
      "source": [
        "# c) What is the probability that a Data Scientist in Chennai has a salary less than 4,00,000 INR?\n",
        "z = (400000-mu) / sigma "
      ]
    },
    {
      "cell_type": "code",
      "execution_count": null,
      "metadata": {
        "id": "qjI4QnRl05Tr",
        "outputId": "5b502686-489b-46f9-a56a-7739296ff4d8"
      },
      "outputs": [
        {
          "name": "stdout",
          "output_type": "stream",
          "text": [
            " c) Probability that a Data Scientist in Chennai has a salary less than 4,00,000 INR is 0.0004\n"
          ]
        }
      ],
      "source": [
        "P = stats.norm.cdf(z)\n",
        "print(' c) Probability that a Data Scientist in Chennai has a salary less than 4,00,000 INR is %1.4f' % P)"
      ]
    },
    {
      "cell_type": "code",
      "execution_count": null,
      "metadata": {
        "id": "NsWsCJf705Tr"
      },
      "outputs": [],
      "source": [
        "#Example 3"
      ]
    },
    {
      "cell_type": "markdown",
      "metadata": {
        "id": "WbF6pMhS05Tr"
      },
      "source": [
        "The fill amount in 2-liter soft drink bottles is normally distributed, with a mean of 2.0 liters and a standard deviation of 0.05 liter. If the bottles contain less than 95% of the listed net content (1.90 liters, in our case), the manufacturer may be subject to penalty by the state office of consumer affairs. Bottles that have a net content above 2.1 liters may cause excess spillage upon opening. What is the proportion of bottles that will contain\n",
        "\n",
        "a) between 1.9 and 2.0 liters\n",
        "b) between 1.9 and 2.1 liters\n",
        "c) below 1.9 liters or above 2.1 liters\n",
        "d) At least how much soft drink is contained in 99% of the bottles?"
      ]
    },
    {
      "cell_type": "code",
      "execution_count": null,
      "metadata": {
        "id": "UtqCjBXT05Tr"
      },
      "outputs": [],
      "source": [
        "mu     = 2\n",
        "sigma  = 0.05"
      ]
    },
    {
      "cell_type": "markdown",
      "metadata": {
        "id": "sl92HWF205Ts"
      },
      "source": [
        "a. between 1.9 and 2.0 liters"
      ]
    },
    {
      "cell_type": "code",
      "execution_count": null,
      "metadata": {
        "id": "Df1G0OTo05Ts",
        "outputId": "7085cbdc-825d-4be8-8ccc-9bc170302db1"
      },
      "outputs": [
        {
          "name": "stdout",
          "output_type": "stream",
          "text": [
            "Z value for 1.90 liters is -2.0000\n"
          ]
        }
      ],
      "source": [
        "x1   = 1.90\n",
        "z1   = (x1 - mu) /  sigma \n",
        "print(\"Z value for 1.90 liters is %3.4f\" % z1)"
      ]
    },
    {
      "cell_type": "code",
      "execution_count": null,
      "metadata": {
        "id": "hhRnxK6c05Ts",
        "outputId": "e4b1827c-229a-412b-c11c-9bff9cc80b84"
      },
      "outputs": [
        {
          "name": "stdout",
          "output_type": "stream",
          "text": [
            "Z value for 2 liters is 0.0000\n"
          ]
        }
      ],
      "source": [
        "x2   = 2\n",
        "z2   = (x2 - mu) /  sigma \n",
        "print(\"Z value for 2 liters is %3.4f\" % z2)"
      ]
    },
    {
      "cell_type": "code",
      "execution_count": null,
      "metadata": {
        "id": "VAexKzPS05Tt",
        "outputId": "f8ab8356-cac0-4397-9036-5f2c65c87852"
      },
      "outputs": [
        {
          "name": "stdout",
          "output_type": "stream",
          "text": [
            "a.  Proportion of bottles between 1.9 and 2 L is 0.4772\n"
          ]
        }
      ],
      "source": [
        "P  = stats.norm.cdf(z2) - stats.norm.cdf(z1)\n",
        "print(\"a.  Proportion of bottles between 1.9 and 2 L is %3.4f\" % P)"
      ]
    },
    {
      "cell_type": "markdown",
      "metadata": {
        "id": "Qx-3w07A05Tt"
      },
      "source": [
        "b) between 1.9 and 2.1 liters"
      ]
    },
    {
      "cell_type": "code",
      "execution_count": null,
      "metadata": {
        "id": "nLbXaHRa05Tt",
        "outputId": "a125bf37-614d-413f-8c71-c7d018d33c3f"
      },
      "outputs": [
        {
          "name": "stdout",
          "output_type": "stream",
          "text": [
            "Z value for 2.1 liters is 2.0000\n"
          ]
        }
      ],
      "source": [
        "x3   = 2.1\n",
        "z3   = (x3 - mu) /  sigma\n",
        "print(\"Z value for 2.1 liters is %3.4f\" % z3)"
      ]
    },
    {
      "cell_type": "code",
      "execution_count": null,
      "metadata": {
        "id": "XkEmVgSB05Tt",
        "outputId": "fc9dfb62-286a-4bac-eb9a-0bd9f7b7a4fb"
      },
      "outputs": [
        {
          "name": "stdout",
          "output_type": "stream",
          "text": [
            "b. Proportion of bottles between 1.9 and 2.1 L is 0.9545\n"
          ]
        }
      ],
      "source": [
        "P = stats.norm.cdf(z3) - stats.norm.cdf(z1)\n",
        "print(\"b. Proportion of bottles between 1.9 and 2.1 L is %3.4f\" %P)"
      ]
    },
    {
      "cell_type": "markdown",
      "metadata": {
        "id": "HgakKGYk05Tu"
      },
      "source": [
        "c. below 1.9 liters or above 2.1 liters"
      ]
    },
    {
      "cell_type": "code",
      "execution_count": null,
      "metadata": {
        "id": "nXuyX4Yz05Tu",
        "outputId": "614c06fd-b891-4ed4-8b6a-eaf3513dc816"
      },
      "outputs": [
        {
          "name": "stdout",
          "output_type": "stream",
          "text": [
            "c. below 1.9 liters or above 2.1 liters is  0.0455\n"
          ]
        }
      ],
      "source": [
        "P1  =  stats.norm.cdf(z1)\n",
        "P2  =  1 - stats.norm.cdf(z3)\n",
        "print(\"c. below 1.9 liters or above 2.1 liters is  %3.4f\" % (P1 + P2))"
      ]
    },
    {
      "cell_type": "markdown",
      "metadata": {
        "id": "z_MxLLTC05Tu"
      },
      "source": [
        "d) At least how much soft drink is contained in 99% of the bottles?"
      ]
    },
    {
      "cell_type": "code",
      "execution_count": null,
      "metadata": {
        "id": "JKaQUp6C05Tv",
        "outputId": "0a6587ac-529f-4441-9889-c3504afa9e4c"
      },
      "outputs": [
        {
          "name": "stdout",
          "output_type": "stream",
          "text": [
            "d. At least how much soft drink is contained in 99 percent of the bottles is  1.8837 Liters\n"
          ]
        }
      ],
      "source": [
        "# Here we need to find the vol\n",
        "P = stats.norm.isf(q = 0.99, loc = mu, scale = sigma)\n",
        "print(\"d. At least how much soft drink is contained in 99 percent of the bottles is  %4.4f Liters\" % P)"
      ]
    }
  ],
  "metadata": {
    "kernelspec": {
      "display_name": "Python 3",
      "language": "python",
      "name": "python3"
    },
    "language_info": {
      "codemirror_mode": {
        "name": "ipython",
        "version": 3
      },
      "file_extension": ".py",
      "mimetype": "text/x-python",
      "name": "python",
      "nbconvert_exporter": "python",
      "pygments_lexer": "ipython3",
      "version": "3.8.5"
    },
    "colab": {
      "provenance": []
    }
  },
  "nbformat": 4,
  "nbformat_minor": 0
}