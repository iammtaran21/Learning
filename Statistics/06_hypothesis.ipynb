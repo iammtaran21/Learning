{
  "cells": [
    {
      "cell_type": "markdown",
      "metadata": {
        "id": "FgaxYHL506kq"
      },
      "source": [
        "# Hypothesis"
      ]
    },
    {
      "cell_type": "markdown",
      "metadata": {
        "id": "BzDxsYF606ks"
      },
      "source": [
        "Hypothesis is a claim made by a person / organization.\n",
        "\n",
        "The claim is usually about the population parameters such as mean or proportion and we seek evidence from a sample for the support of the claim (Example: average salary of Data Scientist with 1 year experience is Rs 5 Lakhs per annum).\n",
        "\n",
        "Hypothesis testing is a process used for either rejecting or retaining null hypothesis"
      ]
    },
    {
      "cell_type": "markdown",
      "metadata": {
        "id": "Dogeq8Qa06kt"
      },
      "source": [
        "# ** Examples of some claims:**\n",
        "\n",
        "If you drink Horlicks, you can grow taller, stronger and sharper.\n",
        "Two - minute for cooking noodles. (or eating !!)\n",
        "Married people are happier than singles (Anon - 2015).\n",
        "Smokers are better sales people.\n",
        "Hypothesis testing is used for checking the validity of the claim using evidence found in sample data."
      ]
    },
    {
      "cell_type": "markdown",
      "metadata": {
        "id": "SGP6kBJB06kt"
      },
      "source": [
        "# Steps involved in solving the hypothesis testing"
      ]
    },
    {
      "cell_type": "markdown",
      "metadata": {
        "id": "R9V_X2gb06ku"
      },
      "source": [
        "Define null and alternative hypotheses\n",
        "\n",
        "Null hypothesis means no relationship or status quo\n",
        "\n",
        "Alternative hypothesis is what the researcher wants to prove¶"
      ]
    },
    {
      "cell_type": "markdown",
      "metadata": {
        "id": "OmGAyrpy06ku"
      },
      "source": [
        "# Example 1"
      ]
    },
    {
      "cell_type": "markdown",
      "metadata": {
        "id": "6yRUo_GI06ku"
      },
      "source": [
        "Write the null and alternative hypothesis from the following hypopthesis description: a. Average annual salary of Data Scientists is different for those having Ph.D in Statistics and those who do not.\n",
        "\n",
        "Let  μPhD  be the average annual salary of a Data scientist with Ph.D in Statistics.\n",
        "\n",
        "Let  μNoPhD  be the average annual salary of a Data scientist without Ph.D in Statistics.\n",
        "\n",
        "Null hypothesis:  H0 :  μPhD  =  μNoPhD \n",
        "\n",
        "Alternative hypothesis:  HA :  μPhD   ≠   μNoPhD"
      ]
    },
    {
      "cell_type": "markdown",
      "metadata": {
        "id": "hsebTFSU06kv"
      },
      "source": [
        "Since the rejection region is on either side of the distribution, it will be a two-tailed test."
      ]
    },
    {
      "cell_type": "markdown",
      "metadata": {
        "id": "6oqg9NBP06kv"
      },
      "source": [
        "b. Average annual salary of Data Scientists is more for those having Ph.D in Statistics and those who do not.\n",
        "\n",
        "Null hypothesis: H0: μPhD ≤ μNoPhD\n",
        "\n",
        "Alternative hypothesis: HA: μPhD > μNoPhD\n",
        "\n",
        "Since the rejection region is on the right side of the distribution, it will be a one-tailed test."
      ]
    },
    {
      "cell_type": "markdown",
      "metadata": {
        "id": "QiHDVXs806kv"
      },
      "source": [
        "# 2 Decide the significance level"
      ]
    },
    {
      "cell_type": "markdown",
      "metadata": {
        "id": "k4gDi51R06kv"
      },
      "source": [
        "You control the Type I error by determining the risk level,  α , the level of significance that you are willing to reject the null hypothesis when it is true. Traditionally, you select a level of 0.01, 0.05 or 0.10. The choice of selection for making Type I error depends on the cost of making a Type I error.\n",
        "\n",
        "One way to reduce the probability of making a Type II error is by increasing the sample size. For a given level of  α , increasing the sample size decreases  β  resulting in increasing the power of the statistical test to detect that null hypothesis is fal"
      ]
    },
    {
      "cell_type": "markdown",
      "metadata": {
        "id": "YRh6Tbwy06kw"
      },
      "source": [
        "# 3 Identify the test statistic\n",
        "\n",
        "The test statistic will depend on the probability distribution of the sampling distribution"
      ]
    },
    {
      "cell_type": "markdown",
      "metadata": {
        "id": "01OMPprz06kw"
      },
      "source": [
        "# 4 Calculate the p-value or critical values\n",
        "\n",
        "P-value is the conditional probability of observing the test statistic value or extreme than the sample result when the null hypothesis is true.\n",
        "\n",
        "Critical value approach\n",
        "\n",
        "Critical values for the appropriate test statistic are selected so that the rejection region contains a total area of  α  when  H0  is true and the non-rejection region contains a total area of 1 -  α  when  H0  is true."
      ]
    },
    {
      "cell_type": "markdown",
      "metadata": {
        "id": "_SYviBvV06kw"
      },
      "source": [
        "# 5. Decide to reject or accept null hypothesis\n",
        "\n",
        "Reject null hypothesis when test statisic lies in the rejection region; retain null hypothesis otherwise.\n",
        "\n",
        "OR\n",
        "\n",
        "Reject null hypothesis when p-value < α; retain null hypothesis otherwise."
      ]
    },
    {
      "cell_type": "markdown",
      "metadata": {
        "id": "T22YAJOO06kx"
      },
      "source": [
        "# One sample and two sample  (test for mean ) "
      ]
    },
    {
      "cell_type": "markdown",
      "metadata": {
        "id": "k9c_M1H806kx"
      },
      "source": [
        "## One sample test"
      ]
    },
    {
      "cell_type": "markdown",
      "metadata": {
        "id": "GMLwdqBy06kx"
      },
      "source": [
        "In one sample test, we compare the population parameter such as mean of a single sample of data collected from a single population. \n",
        "\n",
        "### 1) Z test\n",
        "\n",
        "A one sample Z test is one of the most basic types of hypothesis test. \n",
        "\n",
        "### Example 1: A principal of a prestigious city college claims that the average intelligence of the students of the college is above average. \n",
        "\n",
        "A random sample of 100 students IQ scores have  a mean score of 115. The mean population mean IQ is 100 with a standard deviation of 15.\n",
        "\n",
        "**Is there sufficient evidence to support the principal's claim?**\n"
      ]
    },
    {
      "cell_type": "markdown",
      "metadata": {
        "id": "ai-oGwpb06kx"
      },
      "source": [
        "### Solution: Let us work through the several required steps"
      ]
    },
    {
      "cell_type": "code",
      "execution_count": null,
      "metadata": {
        "id": "IJrGv3or06ky"
      },
      "outputs": [],
      "source": [
        "import numpy       as np\n",
        "import pandas      as pd\n",
        "import scipy.stats as stats"
      ]
    },
    {
      "cell_type": "markdown",
      "metadata": {
        "id": "YWAzitq206ky"
      },
      "source": [
        "### Step 1: Define null and alternative hypotheses"
      ]
    },
    {
      "cell_type": "markdown",
      "metadata": {
        "id": "9dqc1l3306kz"
      },
      "source": [
        "In testing whether the mean IQ of the students is more than 100, the null hypothesis states that mean IQ, $\\mu$ equals 100. The alternative hypthesis states that the mean IQ, $\\mu$ is greater  than 100.\n",
        "* $H_0$: $\\mu$ <= 100\n",
        "* $H_A$: $\\mu$ > 100"
      ]
    },
    {
      "cell_type": "markdown",
      "metadata": {
        "id": "z1fjmrhx06kz"
      },
      "source": [
        "### Step 2: Decide the significance level"
      ]
    },
    {
      "cell_type": "markdown",
      "metadata": {
        "id": "d1R8BTfn06kz"
      },
      "source": [
        "Here we select $\\alpha$ = 0.05 and it is given that n, sample size = 100."
      ]
    },
    {
      "cell_type": "markdown",
      "metadata": {
        "id": "wshQ1iQk06kz"
      },
      "source": [
        "### Step 3: Identify the test statistic"
      ]
    },
    {
      "cell_type": "markdown",
      "metadata": {
        "id": "VnX0lMHM06kz"
      },
      "source": [
        "We know the population standard deviation and the sample is a large sample, n>30. So you use the normal distribution and the $Z_STAT$ test statistic."
      ]
    },
    {
      "cell_type": "markdown",
      "metadata": {
        "id": "7SPn2H-y06kz"
      },
      "source": [
        "### Step 4: Calculate the critical value and test statistic"
      ]
    },
    {
      "cell_type": "markdown",
      "metadata": {
        "id": "oWbOSNI306k0"
      },
      "source": [
        "reference :\n",
        "https://docs.scipy.org/doc/scipy-0.16.1/reference/generated/scipy.stats.norm.html"
      ]
    },
    {
      "cell_type": "code",
      "execution_count": null,
      "metadata": {
        "id": "g-pJnvup06k0",
        "outputId": "47be64f7-e97e-4e78-dece-13d20491da0f"
      },
      "outputs": [
        {
          "name": "stdout",
          "output_type": "stream",
          "text": [
            "Value of Z critical is 1.640000\n"
          ]
        }
      ],
      "source": [
        "Zcrit = round(stats.norm.isf(q = 0.05),2)\n",
        "print('Value of Z critical is %3.6f' %Zcrit)              "
      ]
    },
    {
      "cell_type": "markdown",
      "metadata": {
        "id": "3Nt5TYsT06k1"
      },
      "source": [
        "We know the $\\alpha$ is 0.05. So, the critical values of the $Z_STAT$ test statistic is 1.64"
      ]
    },
    {
      "cell_type": "markdown",
      "metadata": {
        "id": "QpKElUTZ06k1"
      },
      "source": [
        "We collect the sample data, calculate the test statistic. \n",
        "In our example, \n",
        "* $\\overline{X}$ = 115\n",
        "* $\\mu$          = 100\n",
        "* $\\sigma$       = 15\n",
        "* n              = 100\n",
        "* $Z_{STAT} = \\frac{\\overline{X} - \\mu} {\\frac{\\sigma}{\\sqrt{n}}}$ "
      ]
    },
    {
      "cell_type": "code",
      "execution_count": null,
      "metadata": {
        "id": "_1E2Fk0206k2",
        "outputId": "f40a9de3-2055-434c-c2d3-fa2005188662"
      },
      "outputs": [
        {
          "name": "stdout",
          "output_type": "stream",
          "text": [
            "Value of Z is 10.00000\n"
          ]
        }
      ],
      "source": [
        "XAvg  = 115\n",
        "mu    = 100\n",
        "sigma = 15\n",
        "n     = 100\n",
        "Z = (XAvg - mu)/(sigma/np.sqrt(n))\n",
        "print('Value of Z is %2.5f' %Z)"
      ]
    },
    {
      "cell_type": "markdown",
      "metadata": {
        "id": "_fC2sf4L06k2"
      },
      "source": [
        "### 5 Decide to reject or accept null hypothesis"
      ]
    },
    {
      "cell_type": "markdown",
      "metadata": {
        "id": "GsdNsviS06k2"
      },
      "source": [
        "In this example, Z = 10 lies in the rejection region because, Z = 0.00047 > 1.64.\n",
        "\n",
        "So the statistical decision is to reject the null hypothesis.\n",
        "\n",
        "### So there is sufficient evidence  to prove that the mean average intelligence of the students of the college is above average.\n"
      ]
    },
    {
      "cell_type": "markdown",
      "metadata": {
        "id": "cbYZCy-x06k2"
      },
      "source": [
        "### 2) t test"
      ]
    },
    {
      "cell_type": "markdown",
      "metadata": {
        "id": "UbIC2XLB06k2"
      },
      "source": [
        "### Very rarely we know the variance of the population. \n",
        "\n",
        "A common strategy to assess hypothesis is to conduct a t test. A t test can tell whether two groups have the same mean. \n",
        "A t test can be estimated for:\n",
        "* 1) One sample t test\n",
        "* 2) Two sample t test (including paired t test)\n",
        "\n",
        "We assume that the samples are randomly selected, independent and come from a normally distributed population with unknown but equal variances."
      ]
    },
    {
      "cell_type": "markdown",
      "metadata": {
        "id": "J_W4907b06k3"
      },
      "source": [
        "### One sample t test"
      ]
    },
    {
      "cell_type": "code",
      "execution_count": null,
      "metadata": {
        "collapsed": true,
        "id": "cPJEDUu006k3"
      },
      "outputs": [],
      "source": [
        "from scipy.stats             import ttest_1samp,ttest_ind, wilcoxon\n",
        "from statsmodels.stats.power import ttest_power\n",
        "import matplotlib.pyplot     as     plt"
      ]
    },
    {
      "cell_type": "markdown",
      "metadata": {
        "id": "YYQLUJum06k3"
      },
      "source": [
        "### Example 2\n",
        "\n",
        "Suppose that a doctor claims that 17 year olds have an average body temperature that is higher than the commonly accepted average human temperature of 98.6 degree F.\n",
        "\n",
        "A simple random statistical sample of 25 people, each of age 17 is selected. \n",
        "\n",
        "| ID | Temperature |\n",
        "| --- | ----- |\n",
        "| 1 | 98.56 | \n",
        "| 2 | 98.66 |\n",
        "| 3 | 97.54 |\n",
        "| 4 | 98.71 |\n",
        "| 5 | 99.22 |\n",
        "| 6 | 99.49 |\n",
        "| 7 | 98.14 |\n",
        "| 8 | 98.84 |\n",
        "| 9 | 99.28 |\n",
        "| 10 | 98.48 |\n",
        "| 11 | 98.88 |\n",
        "| 12 | 97.29 |\n",
        "| 13 | 98.88 |\n",
        "| 14 | 99.07 |\n",
        "| 15 | 98.81 |\n",
        "| 16 | 99.49 |\n",
        "| 17 | 98.57 |\n",
        "| 18 | 97.98 |\n",
        "| 19 | 97.75 |\n",
        "| 20 | 97.69 |\n",
        "| 21 | 99.28 |\n",
        "| 22 | 98.52 |\n",
        "| 23 | 98.82 |\n",
        "| 24 | 98.81 |\n",
        "| 25 | 98.22 |\n"
      ]
    },
    {
      "cell_type": "code",
      "execution_count": null,
      "metadata": {
        "collapsed": true,
        "id": "CBMRgqgf06k3"
      },
      "outputs": [],
      "source": [
        "temperature = np.array([98.56, 98.66, 97.54, 98.71, 99.22, 99.49, 98.14, 98.84,\\\n",
        "                         99.28, 98.48, 98.88, 97.29, 98.88, 99.07, 98.81, 99.49,\\\n",
        "                         98.57, 97.98, 97.75, 97.69, 99.28, 98.52, 98.82, 98.81, 98.22])            "
      ]
    },
    {
      "cell_type": "code",
      "execution_count": null,
      "metadata": {
        "id": "I2DbQh1g06k4",
        "outputId": "115c1218-bc82-4ed1-e248-a95222d38d62"
      },
      "outputs": [
        {
          "name": "stdout",
          "output_type": "stream",
          "text": [
            "Mean is 98.6 Sd is 0.6\n"
          ]
        }
      ],
      "source": [
        "print('Mean is %2.1f Sd is %2.1f' % (temperature.mean(),np.std(temperature,ddof = 1)))"
      ]
    },
    {
      "cell_type": "markdown",
      "metadata": {
        "id": "tWZIN9fK06k4"
      },
      "source": [
        "### Step 1: Define null and alternative hypotheses"
      ]
    },
    {
      "cell_type": "markdown",
      "metadata": {
        "id": "RABWeMl806k4"
      },
      "source": [
        "In testing whether 17 year olds have an average body temperature that is higher than 98.6 deg F,the null hypothesis states that mean bdy temperature, $\\mu$ equals 98.6. The alternative hypthesis states that the mean body temprature, $\\mu$ is greater  than 98.6.\n",
        "\n",
        "* $H_0$: $\\mu$ <= 98.6\n",
        "* $H_A$: $\\mu$ > 98.6"
      ]
    },
    {
      "cell_type": "markdown",
      "metadata": {
        "id": "rFtQK_5w06k5"
      },
      "source": [
        "### Step 2: Decide the significance level"
      ]
    },
    {
      "cell_type": "markdown",
      "metadata": {
        "id": "w4K7Vrac06k5"
      },
      "source": [
        "Here we select $\\alpha$ = 0.05 and it is given that n, sample size = 25."
      ]
    },
    {
      "cell_type": "markdown",
      "metadata": {
        "id": "i_cjnM1y06k5"
      },
      "source": [
        "### Step 3: Identify the test statistic"
      ]
    },
    {
      "cell_type": "markdown",
      "metadata": {
        "id": "wKREjtBf06k6"
      },
      "source": [
        "We do not know the population standard deviation and the sample is not a large sample, n < 30. So you use the t distribution and the $t_STAT$ test statistic."
      ]
    },
    {
      "cell_type": "markdown",
      "metadata": {
        "id": "sAF668b706k6"
      },
      "source": [
        "### Step 4: Calculate the p - value and test statistic"
      ]
    },
    {
      "cell_type": "markdown",
      "metadata": {
        "id": "t6pehKd806k6"
      },
      "source": [
        "**scipy.stats.ttest_1samp calculates the t test for the mean of one sample given the sample observations and  the expected value in the null hypothesis. This function returns t statistic and two-tailed p value.**"
      ]
    },
    {
      "cell_type": "code",
      "execution_count": null,
      "metadata": {
        "collapsed": true,
        "id": "ILHcBqEy06k6"
      },
      "outputs": [],
      "source": [
        "t_statistic, p_value = ttest_1samp(temperature, 98.9)"
      ]
    },
    {
      "cell_type": "code",
      "execution_count": null,
      "metadata": {
        "id": "sXUXzbS106k7",
        "outputId": "51121aaa-fc9b-4910-df00-d0667de8db86"
      },
      "outputs": [
        {
          "name": "stdout",
          "output_type": "stream",
          "text": [
            "-2.50739461327 0.0193331116224\n"
          ]
        }
      ],
      "source": [
        "print(t_statistic, p_value)"
      ]
    },
    {
      "cell_type": "markdown",
      "metadata": {
        "id": "wMTeww8M06k7"
      },
      "source": [
        "### Step 5 Decide to reject or accept null hypothesis"
      ]
    },
    {
      "cell_type": "markdown",
      "metadata": {
        "id": "cUdCSxtF06k7"
      },
      "source": [
        "In this example, p value is 0.0193 and it is less than 5% level of significance\n",
        "\n",
        "So the statistical decision is to reject the null hypothesis at 5% level of significance.\n",
        "\n",
        "### So there is sufficient evidence  to prove that 17 year olds have an average body temperature that is higher than the commonly accepted average human temperature of 98.6 degree F."
      ]
    },
    {
      "cell_type": "markdown",
      "metadata": {
        "id": "zv84mniR06k8"
      },
      "source": [
        "### Practice Exercise 1"
      ]
    },
    {
      "cell_type": "markdown",
      "metadata": {
        "id": "jGoFI8Ie06k8"
      },
      "source": [
        "You are given the daily sugar intake of 11 diabetic patients in the following Python code. \n",
        "\n",
        "**Is there any evidence to the claim that the average daily sugar intake of the diabetic patients is 7600 mg.** \n",
        "\n",
        "**Hint: Use t test**"
      ]
    },
    {
      "cell_type": "code",
      "execution_count": null,
      "metadata": {
        "collapsed": true,
        "id": "NJRKnmTB06k8"
      },
      "outputs": [],
      "source": [
        "# daily intake of Sugar in milligrams for 11 diabetic patients\n",
        "import numpy as np\n",
        "daily_intake = np.array([5560, 5770, 7640, 5180, 5690, 6435, 6803, 7689, 6876, 8213, 8765])"
      ]
    },
    {
      "cell_type": "markdown",
      "metadata": {
        "id": "8VRISvcz06k9"
      },
      "source": [
        "## Two sample test"
      ]
    },
    {
      "cell_type": "markdown",
      "metadata": {
        "collapsed": true,
        "id": "qeYBs1us06k9"
      },
      "source": [
        "** Two sample t test (Snedecor and Cochran 1989) is used to determine if two population means are equal.\n",
        "A common application is to test if a new treatment or approach or process is yielding better results than the current treatment or approach or process.**\n",
        "\n",
        "* 1) Data is *paired* - For example, a group of students are given coaching classes and effect of coaching on the  marks scored is determined.\n",
        "* 2) Data is *not paired* - For example, find out  whether the miles per gallon of  cars of Japanese make is superior to cars of Indian make."
      ]
    },
    {
      "cell_type": "markdown",
      "metadata": {
        "id": "vUdYlW0506k9"
      },
      "source": [
        "## Two sample t test for unpaired data is defined as \n",
        "* $H_0$: $\\mu1$        = $\\mu2$ \n",
        "* $H_a$: $\\mu1$ $\\neq$ = $\\mu2$ \n",
        "\n",
        "### Test statistic T = $\\frac{\\overline{X_1} - \\overline{X_2}}{\\sqrt{\\frac{{s_1}^2} {n1}+ \\frac{{s_2}^2}{n2}}}$\n",
        "\n",
        "* where n1 and n2 are the sample sizes and X1 and X2 are the sample means \n",
        "* ${S_1}^2$ and ${S_2}^2$ are sample variances"
      ]
    },
    {
      "cell_type": "markdown",
      "metadata": {
        "id": "WNP6pMgK06k9"
      },
      "source": [
        "### Example 3"
      ]
    },
    {
      "cell_type": "markdown",
      "metadata": {
        "id": "aZE9BTQE06k9"
      },
      "source": [
        "Compare two unrelated samples. Data was collected on the weight loss of 16 women and 20 men enrolled in a weight reduction program.\n",
        "At $\\alpha$ = 0.05, test whether the weight loss of these two samples is different."
      ]
    },
    {
      "cell_type": "code",
      "execution_count": null,
      "metadata": {
        "collapsed": true,
        "id": "PrHDPoXV06k-"
      },
      "outputs": [],
      "source": [
        "Weight_loss_Male   = [ 3.69, 4.12, 4.65, 3.19,  4.34, 3.68, 4.12, 4.50, 3.70, 3.09,3.65, 4.73, 3.93, 3.46, 3.28, 4.43, 4.13, 3.62, 3.71, 2.92]\n",
        "Weight_loss_Female = [2.99, 1.80, 3.79, 4.12, 1.76, 3.50, 3.61, 2.32, 3.67, 4.26, 4.57, 3.01, 3.82, 4.33, 3.40, 3.86]"
      ]
    },
    {
      "cell_type": "code",
      "execution_count": null,
      "metadata": {
        "collapsed": true,
        "id": "t79jwbTu06k-"
      },
      "outputs": [],
      "source": [
        "from    scipy.stats             import  ttest_1samp,ttest_ind, wilcoxon, ttest_ind_from_stats\n",
        "import  scipy.stats             as      stats  \n",
        "from    statsmodels.stats.power import  ttest_power\n",
        "import  matplotlib.pyplot       as      plt"
      ]
    },
    {
      "cell_type": "markdown",
      "metadata": {
        "id": "TuJbMqRi06k_"
      },
      "source": [
        "### Step 1: Define null and alternative hypotheses"
      ]
    },
    {
      "cell_type": "markdown",
      "metadata": {
        "id": "RyjeVOy706k_"
      },
      "source": [
        "In testing whether weight reduction of female and male are same,the null hypothesis states that mean weight reduction, $\\mu{M}$ equals $\\mu{F}$. The alternative hypthesis states that the weight reduction is different for Male and Female, $\\mu{M}$ $\\neq$ $\\mu{F}$\n",
        "\n",
        "* $H_0$: $\\mu{M}$ - $\\mu{F}$ =      0\n",
        "* $H_A$: $\\mu{M}$ - $\\mu{F}$ $\\neq$  0"
      ]
    },
    {
      "cell_type": "markdown",
      "metadata": {
        "id": "o4COMwBJ06k_"
      },
      "source": [
        "### Step 2: Decide the significance level"
      ]
    },
    {
      "cell_type": "markdown",
      "metadata": {
        "id": "tFrHRTE606k_"
      },
      "source": [
        "Here we select $\\alpha$ = 0.05 and sample size < 30 and population standard deviation is not known."
      ]
    },
    {
      "cell_type": "markdown",
      "metadata": {
        "id": "MoaYK1oW06k_"
      },
      "source": [
        "### Step 3: Identify the test statistic"
      ]
    },
    {
      "cell_type": "markdown",
      "metadata": {
        "id": "dUylZoHX06lA"
      },
      "source": [
        "* We have two samples and we do not know the population standard deviation.\n",
        "* Sample sizes for both samples are not same.\n",
        "* The sample is not a large sample, n < 30. So you use the t distribution and the $t_STAT$ test statistic for two sample unpaired test."
      ]
    },
    {
      "cell_type": "markdown",
      "metadata": {
        "id": "vukx4WOw06lA"
      },
      "source": [
        "### Step 4: Calculate the p - value and test statistic"
      ]
    },
    {
      "cell_type": "markdown",
      "metadata": {
        "id": "kDGdbJNx06lA"
      },
      "source": [
        "** We use the scipy.stats.ttest_ind to calculate the t-test for the means of TWO INDEPENDENT samples of scores given the two sample observations. This function returns t statistic and two-tailed p value.**\n",
        "\n",
        "** This is a two-sided test for the null hypothesis that 2 independent samples have identical average (expected) values. This test assumes that the populations have identical variances.**"
      ]
    },
    {
      "cell_type": "code",
      "execution_count": null,
      "metadata": {
        "id": "oP6DeQgY06lA",
        "outputId": "f20df99f-b9ff-4c48-c06f-55f0883d0a17"
      },
      "outputs": [
        {
          "name": "stdout",
          "output_type": "stream",
          "text": [
            "P Value 0.076\n"
          ]
        }
      ],
      "source": [
        "t_statistic, p_value  =  stats.ttest_ind(Weight_loss_Male,Weight_loss_Female)\n",
        "print('P Value %1.3f' % p_value)    "
      ]
    },
    {
      "cell_type": "markdown",
      "metadata": {
        "id": "O5yRaFNx06lB"
      },
      "source": [
        "### Step 5:  Decide to reject or accept null hypothesis"
      ]
    },
    {
      "cell_type": "markdown",
      "metadata": {
        "id": "Ovz7Kc3h06lB"
      },
      "source": [
        "In this example, p value is 0.076 and it is more than 5% level of significance\n",
        "\n",
        "So the statistical decision is to accept the null hypothesis at 5% level of significance.\n",
        "\n",
        "### So there is no sufficient evidence  to reject the null hypothesis that the weight loss of these men and women is same."
      ]
    },
    {
      "cell_type": "markdown",
      "metadata": {
        "id": "Uc5Z_3_Q06lB"
      },
      "source": [
        "### Practice Exercise 2"
      ]
    },
    {
      "cell_type": "markdown",
      "metadata": {
        "id": "nmhLPKSU06lB"
      },
      "source": [
        "Compare the following two unrelated samples. Data was collected on the weight of women and men enrolled in a weight reduction program.\n",
        "At $\\alpha$ = 0.05, test whether the weight of these two samples is different."
      ]
    },
    {
      "cell_type": "code",
      "execution_count": null,
      "metadata": {
        "collapsed": true,
        "scrolled": true,
        "id": "JSXdc2O706lC"
      },
      "outputs": [],
      "source": [
        "Weight_Female       =  [ 53.8, 54.4, 51.2, 52.5, 61.0, 50.6, 51.6, 70.0]\n",
        "Weight_Male         =  [ 72.5, 80.3, 71.3, 67.7, 66.2, 73.4, 61.3, 76.8]"
      ]
    },
    {
      "cell_type": "markdown",
      "metadata": {
        "id": "-J7MmyDL06lC"
      },
      "source": [
        "## Two sample t test for paired data"
      ]
    },
    {
      "cell_type": "markdown",
      "metadata": {
        "id": "gBVUWgqg06lC"
      },
      "source": [
        "### Example 4"
      ]
    },
    {
      "cell_type": "markdown",
      "metadata": {
        "id": "c0MK9GTO06lC"
      },
      "source": [
        "Compare two related samples. Data was collected on the marks scored by 25 students in their final practice exam and the marks scored by the students after attending special coaching classes conducted by their college.\n",
        "At 5% level of significance, is there any evidence that the coaching classes has any effect on the marks scored."
      ]
    },
    {
      "cell_type": "code",
      "execution_count": null,
      "metadata": {
        "collapsed": true,
        "id": "oOqKxCMo06lC"
      },
      "outputs": [],
      "source": [
        "Marks_before = [ 52, 56, 61, 47, 58, 52, 56, 60, 52, 46, 51, 62, 54, 50, 48, 59, 56, 51, 52, 44, 52, 45, 57, 60, 45]\n",
        "\n",
        "Marks_after  = [62, 64, 40, 65, 76, 82, 53, 68, 77, 60, 69, 34, 69, 73, 67, 82, 62, 49, 44, 43, 77, 61, 67, 67, 54]"
      ]
    },
    {
      "cell_type": "markdown",
      "metadata": {
        "id": "qMQTgss_06lC"
      },
      "source": [
        "## Step 1: Define null and alternative hypotheses"
      ]
    },
    {
      "cell_type": "markdown",
      "metadata": {
        "id": "4w1wCuNI06lD"
      },
      "source": [
        "In testing whether coaching has any effect on marks scored, the null hypothesis states that difference in marks, $\\mu{After}$ equals $\\mu{Before}$. The alternative hypthesis states that difference in marks is more than 0, $\\mu{After}$ $\\neq$ $\\mu{Before}$\n",
        "\n",
        "* $H_0$: $\\mu{After}$ - $\\mu{Before}$ =  0\n",
        "* $H_A$: $\\mu{After}$ - $\\mu{Before}$ $\\neq$  0"
      ]
    },
    {
      "cell_type": "markdown",
      "metadata": {
        "id": "yH5IKbj406lD"
      },
      "source": [
        "### Step 2: Decide the significance level"
      ]
    },
    {
      "cell_type": "markdown",
      "metadata": {
        "id": "fw3d8uRu06lD"
      },
      "source": [
        "Here we select $\\alpha$ = 0.05 and sample size < 30 and population standard deviation is not known."
      ]
    },
    {
      "cell_type": "markdown",
      "metadata": {
        "id": "gxzQzKA_06lD"
      },
      "source": [
        "### Step 3: Identify the test statistic"
      ]
    },
    {
      "cell_type": "markdown",
      "metadata": {
        "id": "pQ5SXItc06lD"
      },
      "source": [
        "* Sample sizes for both samples are  same.\n",
        "* We have two paired samples and we do not know the population standard deviation.\n",
        "* The sample is not a large sample, n < 30. So you use the t distribution and the $t_STAT$ test statistic for two sample paired test."
      ]
    },
    {
      "cell_type": "markdown",
      "metadata": {
        "id": "2jtRwte306lD"
      },
      "source": [
        "### Step 4: Calculate the p - value and test statistic"
      ]
    },
    {
      "cell_type": "markdown",
      "metadata": {
        "id": "6b1Aikj406lE"
      },
      "source": [
        "** We use the scipy.stats.ttest_rel to calculate the T-test on TWO RELATED samples of scores.\n",
        "This is a two-sided test for the null hypothesis that 2 related or repeated samples have identical average (expected) values. Here we give the two sample observations as input. This function returns t statistic and two-tailed p value.**"
      ]
    },
    {
      "cell_type": "code",
      "execution_count": null,
      "metadata": {
        "id": "pEMKS3Wt06lE",
        "outputId": "bb6ba51a-e3f2-45a2-d6c7-5a79491cbee4"
      },
      "outputs": [
        {
          "name": "stdout",
          "output_type": "stream",
          "text": [
            "P Value 0.002\n"
          ]
        }
      ],
      "source": [
        "import  scipy.stats             as      stats  \n",
        "t_statistic, p_value  =  stats.ttest_rel(Marks_after, Marks_before )\n",
        "print('P Value %1.3f' % p_value)  "
      ]
    },
    {
      "cell_type": "markdown",
      "metadata": {
        "id": "hkzUSdag06lE"
      },
      "source": [
        "### Step 5:  Decide to reject or accept null hypothesis"
      ]
    },
    {
      "cell_type": "markdown",
      "metadata": {
        "id": "BTY0i9lu06lE"
      },
      "source": [
        "In this example, p value is 0.002 and it is less than 5% level of significance\n",
        "\n",
        "So the statistical decision is to reject the null hypothesis at 5% level of significance.\n",
        "\n",
        "### So there is  sufficient evidence  to reject the null hypothesis that there is an effect of coaching classes on marks scored by students."
      ]
    },
    {
      "cell_type": "markdown",
      "metadata": {
        "id": "Exxd0rdh06lF"
      },
      "source": [
        "### Example 5\n",
        "** Alchohol consumption before and after love failure is given in the following table. Conduct a paired t test to check whether the alcholhol consumption is more after the love failure at 5% level of significance.**"
      ]
    },
    {
      "cell_type": "markdown",
      "metadata": {
        "id": "tUVBjlBn06lF"
      },
      "source": [
        "## Step 1: Define null and alternative hypotheses"
      ]
    },
    {
      "cell_type": "markdown",
      "metadata": {
        "id": "DURc5q1t06lF"
      },
      "source": [
        "In testing whether breakup has any effect on alcohol consumption, the null hypothesis states that difference in alcohol consumption, $\\mu{After}$ - $\\mu{Before}$ is zero. The alternative hypthesis states that difference in alcohol consumption is more than 0, $\\mu{After}$ -  $\\mu{Before}$ $\\neq$ zero.\n",
        "\n",
        "* $H_0$: $\\mu{After}$ - $\\mu{Before}$ =  0\n",
        "* $H_A$: $\\mu{After}$ - $\\mu{Before}$ $\\neq$  0"
      ]
    },
    {
      "cell_type": "markdown",
      "metadata": {
        "id": "FCnWJbAE06lF"
      },
      "source": [
        "### Step 2: Decide the significance level"
      ]
    },
    {
      "cell_type": "markdown",
      "metadata": {
        "id": "Cj4gBVyJ06lK"
      },
      "source": [
        "Here we select α = 0.05 and sample size < 30 and population standard deviation is not known."
      ]
    },
    {
      "cell_type": "markdown",
      "metadata": {
        "id": "DBZVWnJI06lK"
      },
      "source": [
        "### Step 3: Identify the test statistic"
      ]
    },
    {
      "cell_type": "markdown",
      "metadata": {
        "id": "2BwaEUkN06lL"
      },
      "source": [
        "* Sample sizes for both samples are  same.\n",
        "* We have two paired samples and we do not know the population standard deviation.\n",
        "* The sample is not a large sample, n < 30. So you use the t distribution and the $t_STAT$ test statistic for two sample paired test."
      ]
    },
    {
      "cell_type": "markdown",
      "metadata": {
        "id": "961QYzth06lL"
      },
      "source": [
        "### Step 4: Calculate the p - value and test statistic"
      ]
    },
    {
      "cell_type": "markdown",
      "metadata": {
        "id": "eUtz0wCi06lL"
      },
      "source": [
        "** We use the scipy.ttest_1samp to calculate the T-test on the difference between sample scores.**"
      ]
    },
    {
      "cell_type": "code",
      "execution_count": null,
      "metadata": {
        "id": "fhdYH1np06lL",
        "outputId": "84746ca9-c959-4262-9250-afef9405aef0"
      },
      "outputs": [
        {
          "name": "stdout",
          "output_type": "stream",
          "text": [
            "[ -62   85 -175   86  -14 -105  -60  133   62   88  -31 -106  -95  126   63\n",
            "  112    7   70  -86  132]\n",
            "Mean is 11.50 and standard deviation is 95.68\n"
          ]
        }
      ],
      "source": [
        "import numpy as np\n",
        "\n",
        "Alchohol_Consumption_before = np.array([470, 354, 496, 351, 349, 449, 378, 359, 469, 329, 389, 497, 493, 268, 445, 287, 338, 271, 412, 335])\n",
        "Alchohol_Consumption_after  = np.array([408, 439, 321, 437, 335, 344, 318, 492, 531, 417, 358, 391, 398, 394, 508, 399, 345, 341, 326, 467])\n",
        "\n",
        "D  = Alchohol_Consumption_after -Alchohol_Consumption_before\n",
        "print(D)\n",
        "print('Mean is %3.2f and standard deviation is %3.2f' %(D.mean(),np.std(D,ddof = 1)))"
      ]
    },
    {
      "cell_type": "code",
      "execution_count": null,
      "metadata": {
        "id": "6Nu7mL2t06lL",
        "outputId": "f4a174a4-9890-4780-d9eb-409813cbd997"
      },
      "outputs": [
        {
          "name": "stdout",
          "output_type": "stream",
          "text": [
            "P Value 0.597\n"
          ]
        }
      ],
      "source": [
        "import  scipy.stats  as stats  \n",
        "t_statistic, p_value  =  stats.ttest_1samp(D, 0)\n",
        "print('P Value %1.3f' % p_value)  "
      ]
    },
    {
      "cell_type": "markdown",
      "metadata": {
        "id": "avunM6JI06lM"
      },
      "source": [
        "### Step 5:  Decide to reject or accept null hypothesis"
      ]
    },
    {
      "cell_type": "markdown",
      "metadata": {
        "id": "7jbB7H-d06lM"
      },
      "source": [
        "In this example, p value is 0.597 and it is more than 5% level of significance\n",
        "\n",
        "So the statistical decision is to accept the null hypothesis at 5% level of significance.\n",
        "\n",
        "### There is  no sufficient evidence  to reject the null hypothesis. So we accept the null hypotheis and conclude that  there is no effect of love failure on alcohol consumption"
      ]
    },
    {
      "cell_type": "markdown",
      "metadata": {
        "id": "dqMQrEu306lM"
      },
      "source": [
        "### Practice Exercise 3"
      ]
    },
    {
      "cell_type": "markdown",
      "metadata": {
        "id": "SvkP529Y06lM"
      },
      "source": [
        "Here weight of 25 people were recorded before they had a new therapy and then again 6 months later. \n",
        "Check if new therapy leads to a change in weight."
      ]
    },
    {
      "cell_type": "code",
      "execution_count": null,
      "metadata": {
        "collapsed": true,
        "id": "VSytUT7D06lM"
      },
      "outputs": [],
      "source": [
        "wt_before = [76, 76, 72, 73, 64, 63, 75, 75, 71, 76, 71, 76, 78, 73, 76, 70, 71, 82, 84, 68, 70, 68, 66, 67, 74]\n",
        "wt_after  = [63, 72, 67, 69, 58, 59, 70, 71, 70, 71, 68, 71, 72, 69, 72, 67, 67, 78, 79, 62, 67, 63, 61, 63, 69]"
      ]
    },
    {
      "cell_type": "markdown",
      "metadata": {
        "id": "Ejf9s0__06lM"
      },
      "source": [
        "At 5% level of significance, is there any evidence that the new therapy has any effect on the weight of the participants?"
      ]
    },
    {
      "cell_type": "markdown",
      "metadata": {
        "id": "NlGcnRtA06lN"
      },
      "source": [
        "Hint: Use a paired t test"
      ]
    },
    {
      "cell_type": "markdown",
      "metadata": {
        "id": "gmB3pU3T06lN"
      },
      "source": [
        "### Take home exercises"
      ]
    },
    {
      "cell_type": "markdown",
      "metadata": {
        "collapsed": true,
        "id": "G7pl_qu_06lN"
      },
      "source": [
        "**1 Example: The following data represent the amount of soft drink filled in a sample of 50 consecutive 2-liter bottles as shown below:**\n",
        "\n",
        "|       |       |       |       |       |       |       |       |       |       |\n",
        "| ----- | ----- | ----- | ----- | ----- | ----- | ----- | ----- | ----- | ----- |\n",
        "| 2.109 | 2.086 | 2.066 | 2.075 | 2.065 | 2.057 | 2.052 | 2.044 | 2.036 | 2.038 | \n",
        "| 2.031 | 2.029 | 2.025 | 2.029 | 2.023 | 2.020 | 2.015 | 2.014 | 2.013 | 2.014 | \n",
        "| 2.012 | 2.012 | 2.012 | 2.010 | 2.005 | 2.003 | 1.999 | 1.996 | 1.997 | 1.992 | \n",
        "| 1.994 | 1.986 | 1.984 | 1.981 | 1.973 | 1.975 | 1.971 | 1.969 | 1.966 | 1.967 | \n",
        "| 1.963 | 1.957 | 1.951 | 1.951 | 1.947 | 1.941 | 1.941 | 1.938 | 1.908 | 1.894 | \n",
        "\n",
        "At 5% level of significance, is there evidence that the mean amount of soft drink filled is different from 2 litres? \n"
      ]
    },
    {
      "cell_type": "markdown",
      "metadata": {
        "id": "V-w8_AuP06lN"
      },
      "source": [
        "#### Hint: Use the following piece of code and try t test for one sample"
      ]
    },
    {
      "cell_type": "code",
      "execution_count": null,
      "metadata": {
        "id": "lv0wfbPQ06lN",
        "outputId": "4dbe1b5c-341e-41bc-f555-b07fe300e2a0"
      },
      "outputs": [
        {
          "name": "stdout",
          "output_type": "stream",
          "text": [
            "Mean is 2.00 and standard deviation is 0.04\n"
          ]
        }
      ],
      "source": [
        "import numpy       as np\n",
        "import scipy.stats as stats\n",
        "volume = np.array([2.109, 2.086, 2.066, 2.075, 2.065, 2.057, 2.052, 2.044, 2.036, 2.038, \\\n",
        "                   2.031, 2.029, 2.025, 2.029, 2.023, 2.020, 2.015, 2.014, 2.013, 2.014,\\\n",
        "                   2.012, 2.012, 2.012, 2.010, 2.005, 2.003, 1.999, 1.996, 1.997, 1.992,\\\n",
        "                   1.994, 1.986, 1.984, 1.981, 1.973, 1.975, 1.971, 1.969, 1.966, 1.967,\\\n",
        "                   1.963, 1.957, 1.951, 1.951, 1.947, 1.941, 1.941, 1.938, 1.908, 1.894])\n",
        "\n",
        "print('Mean is %3.2f and standard deviation is %3.2f' %(volume.mean(),np.std(volume,ddof = 1)))"
      ]
    },
    {
      "cell_type": "markdown",
      "metadata": {
        "id": "lCqKl4_o06lO"
      },
      "source": [
        "**2. Sugar consumption in grams of 20 patients (both diabetic and non-diabetic) are given below:**\n",
        "\n",
        "*At 5% level of significance, is there evidence that the mean sugar consumption is different for diabetic and non-diabetic?**    In the following table, 0 means diabetic and 1 means non-diabetic.*\n",
        "    "
      ]
    },
    {
      "cell_type": "code",
      "execution_count": null,
      "metadata": {
        "collapsed": true,
        "id": "PMCbirJL06lO"
      },
      "outputs": [],
      "source": [
        "import numpy       as np\n",
        "import scipy.stats as stats\n",
        "weight               = np.array([[9.31, 0],[7.76, 0],[6.98, 1],[7.88, 1],[8.49, 1],[10.05, 1],[8.80, 1],[10.88, 1],[6.13, 1],[7.90, 1], \\\n",
        "                            [11.51, 0],[12.59, 0],[7.05, 1],[11.85, 0],[9.99, 0],[7.48, 0],[8.79, 0],[8.69, 1],[9.68, 0],[8.58, 1],\\\n",
        "                           [9.19, 0],[8.11, 1]])\n",
        "\n",
        "sugar_diabetic       = weight[:,1] == 0\n",
        "sugar_diabetic       = weight[sugar_diabetic][:,0]\n",
        "sugar_nondiabetic    = weight[:,1] == 1\n",
        "sugar_nondiabetic    = weight[sugar_nondiabetic][:,0] "
      ]
    },
    {
      "cell_type": "markdown",
      "metadata": {
        "id": "Qv7kmmuZ06lO"
      },
      "source": [
        "#### Hint: \n",
        "\n",
        "Use the numpy array, sugar_diabetic and numpy array, sugar_nondiabetic for your analysis."
      ]
    },
    {
      "cell_type": "markdown",
      "metadata": {
        "id": "IWiuTrYJ06lO"
      },
      "source": [
        "**3 The delivery time of Pizza from an online food deliery service firm and the home delivery from a local restaurant are given below: At 5% level of significance, is the mean delivery time for online delivery food service firm is less than the mean delivery time for the home delivery from a local restaurant.**"
      ]
    },
    {
      "cell_type": "code",
      "execution_count": null,
      "metadata": {
        "collapsed": true,
        "id": "OMiwde6s06lO"
      },
      "outputs": [],
      "source": [
        "Pizza_delivery_online = [16.8, 11.7, 15.6, 16.7, 17.5, 18.1, 14.1, 21.8, 13.9, 20.8]\n",
        "Pizza_delivery_local  = [22.0, 15.2, 18.7, 15.6, 20.8, 19.5, 17.0, 19.5, 16.5, 24.0]"
      ]
    },
    {
      "cell_type": "markdown",
      "metadata": {
        "id": "TDZsgBlB06lO"
      },
      "source": [
        "#### Hint: Use paired t test"
      ]
    },
    {
      "cell_type": "markdown",
      "metadata": {
        "id": "f2-oNUsK06lP"
      },
      "source": [
        "## End"
      ]
    }
  ],
  "metadata": {
    "kernelspec": {
      "display_name": "Python 3",
      "language": "python",
      "name": "python3"
    },
    "language_info": {
      "codemirror_mode": {
        "name": "ipython",
        "version": 3
      },
      "file_extension": ".py",
      "mimetype": "text/x-python",
      "name": "python",
      "nbconvert_exporter": "python",
      "pygments_lexer": "ipython3",
      "version": "3.7.6"
    },
    "colab": {
      "provenance": []
    }
  },
  "nbformat": 4,
  "nbformat_minor": 0
}