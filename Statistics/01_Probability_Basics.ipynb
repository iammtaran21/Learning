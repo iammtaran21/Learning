{
  "cells": [
    {
      "cell_type": "markdown",
      "metadata": {
        "id": "ie3h_xRq03Rt"
      },
      "source": [
        "# Basics of probability"
      ]
    },
    {
      "cell_type": "markdown",
      "metadata": {
        "id": "J0wqMYSw03Ry"
      },
      "source": [
        "![image.png](attachment:image.png)"
      ]
    },
    {
      "cell_type": "code",
      "execution_count": null,
      "metadata": {
        "id": "KazlQdZa03Rz"
      },
      "outputs": [],
      "source": [
        "# Example 1"
      ]
    },
    {
      "cell_type": "code",
      "execution_count": null,
      "metadata": {
        "id": "IpHEJRnW03R0"
      },
      "outputs": [],
      "source": [
        "# Probability of getting head or tail while tossing the coin"
      ]
    },
    {
      "cell_type": "code",
      "execution_count": null,
      "metadata": {
        "id": "ZQ5zfWT103R0",
        "outputId": "17a2201b-8abb-473a-ed6c-5898d7331670"
      },
      "outputs": [
        {
          "name": "stdout",
          "output_type": "stream",
          "text": [
            "Probability to get head while tossing the coin once 50.0%\n"
          ]
        }
      ],
      "source": [
        "h = 1/2\n",
        "t = 1/2\n",
        "print(\"Probability to get head while tossing the coin once\", str(h*100)+\"%\")"
      ]
    },
    {
      "cell_type": "code",
      "execution_count": null,
      "metadata": {
        "id": "sumW7Hu303R1",
        "outputId": "4684325e-93b4-453b-e309-42d5e5134c98"
      },
      "outputs": [
        {
          "name": "stdout",
          "output_type": "stream",
          "text": [
            "Probability to get tail while tossing the coin once 50.0%\n"
          ]
        }
      ],
      "source": [
        "t = 1/2\n",
        "print(\"Probability to get tail while tossing the coin once\", str(t*100)+\"%\")"
      ]
    },
    {
      "cell_type": "code",
      "execution_count": null,
      "metadata": {
        "id": "LNWeHQLC03R1"
      },
      "outputs": [],
      "source": [
        "# Example 2"
      ]
    },
    {
      "cell_type": "code",
      "execution_count": null,
      "metadata": {
        "id": "XFmawet403R1"
      },
      "outputs": [],
      "source": [
        "# Probability of getting \" 1 \" while rolling the dice"
      ]
    },
    {
      "cell_type": "code",
      "execution_count": null,
      "metadata": {
        "id": "6kmIldyt03R1",
        "outputId": "1ce23680-915b-4109-9462-5b69a0c503a7"
      },
      "outputs": [
        {
          "name": "stdout",
          "output_type": "stream",
          "text": [
            "Probability to get 1 while rolling a dice 16.666666666666664%\n"
          ]
        }
      ],
      "source": [
        "p1 = 1/6\n",
        "p2 = 1/6\n",
        "p3 = 1/6\n",
        "p4 = 1/6\n",
        "p5 = 1/6\n",
        "p6 = 1/6\n",
        "\n",
        "print(\"Probability to get 1 while rolling a dice\", str(p1*100)+\"%\")"
      ]
    },
    {
      "cell_type": "code",
      "execution_count": null,
      "metadata": {
        "id": "3rKH0lC103R2"
      },
      "outputs": [],
      "source": [
        "# Example 3"
      ]
    },
    {
      "cell_type": "markdown",
      "metadata": {
        "id": "dC7zPUqP03R2"
      },
      "source": [
        "The data collected by an Advertisement agency has revealed that out of 2800 visitors, 56 visitors clicked on 1 Advertisement, 30 clicked on 2 advertisements and 14 clicked on 3 advertisements and the remaining did not click on any advertisement.\n",
        "\n",
        "Calculate\n",
        "\n",
        "a) The probability that a visitor to the website will not click on any advertisement.\n",
        "\n",
        "b) The probability that a visitor to the website will click on an advertisement.\n",
        "\n",
        "c) The probability that a visitor to the website will click on more than one advertisement."
      ]
    },
    {
      "cell_type": "code",
      "execution_count": null,
      "metadata": {
        "id": "q74bYsXb03R2"
      },
      "outputs": [],
      "source": [
        "## solution :"
      ]
    },
    {
      "cell_type": "markdown",
      "metadata": {
        "id": "BVCRp3kG03R3"
      },
      "source": [
        "a) The probability that a visitor to the website will not click on any advertisement.\n",
        "\n",
        "Here 56 visitors click on 1 advertisement\n",
        "\n",
        "Here 30 visitors click on 2 advertisements\n",
        "\n",
        "Here 14 visitors click on 3 advertisements\n",
        "\n",
        "Hence, the total number of customers clicking on any advertisement is 100"
      ]
    },
    {
      "cell_type": "code",
      "execution_count": null,
      "metadata": {
        "id": "RjRWcCJD03R3",
        "outputId": "064aaa24-6702-4ddb-9fab-c3514ea4ecf3"
      },
      "outputs": [
        {
          "data": {
            "text/plain": [
              "0.9643"
            ]
          },
          "execution_count": 10,
          "metadata": {},
          "output_type": "execute_result"
        }
      ],
      "source": [
        "FE1 = 2800 - 100\n",
        "TE  = 2800\n",
        "PE1 = round(FE1 / TE,4)\n",
        "PE1\n",
        "#print('a. The probability that a visitor to the website will not click on any advertisement is %1.4f' % PE1)"
      ]
    },
    {
      "cell_type": "code",
      "execution_count": null,
      "metadata": {
        "id": "ZWOBTUV703R3"
      },
      "outputs": [],
      "source": [
        "# b) The probability that a visitor to the website will click on an advertisement."
      ]
    },
    {
      "cell_type": "code",
      "execution_count": null,
      "metadata": {
        "id": "ribHUSgP03R3",
        "outputId": "40965c9a-65c4-4116-e171-f6e3989a3721"
      },
      "outputs": [
        {
          "name": "stdout",
          "output_type": "stream",
          "text": [
            "b. The probability that a visitor to the website will click on an advertisement is 0.0357\n"
          ]
        }
      ],
      "source": [
        "FE2 = 100 # 56 + 30 + 14\n",
        "TE  = 2800\n",
        "PE2 = round(FE2 / TE,4)\n",
        "print('b. The probability that a visitor to the website will click on an advertisement is %1.4f' % PE2)"
      ]
    },
    {
      "cell_type": "code",
      "execution_count": null,
      "metadata": {
        "id": "kCKW-egr03R4"
      },
      "outputs": [],
      "source": [
        "# c) The probability that a visitor to the website will click on more than one advertisement."
      ]
    },
    {
      "cell_type": "code",
      "execution_count": null,
      "metadata": {
        "id": "OZPG7cKg03R4",
        "outputId": "4802b9c7-da55-4d0a-d504-af8a9506fd76"
      },
      "outputs": [
        {
          "name": "stdout",
          "output_type": "stream",
          "text": [
            "c. The probability that a visitor to the website will click on more than one advertisement. is 0.0157\n"
          ]
        }
      ],
      "source": [
        "FE3 = 44 # = 30 + 14\n",
        "TE  = 2800\n",
        "PE3 = round(FE3 / TE,4)\n",
        "print('c. The probability that a visitor to the website will click on more than one advertisement. is %1.4f' % PE3)"
      ]
    },
    {
      "cell_type": "markdown",
      "metadata": {
        "id": "Gr-5imIC03R4"
      },
      "source": [
        "# # Permutations"
      ]
    },
    {
      "cell_type": "markdown",
      "metadata": {
        "id": "ZjxX59Nt03R4"
      },
      "source": [
        "Permutation - example 1 :\n",
        "Total people :  A B C D E F G H\n",
        "How many ways can I give 3 tin cans to 8 people?"
      ]
    },
    {
      "cell_type": "markdown",
      "metadata": {
        "id": "Mr_lnKGP03R5"
      },
      "source": [
        "![Capture.JPG](attachment:Capture.JPG)"
      ]
    },
    {
      "cell_type": "code",
      "execution_count": null,
      "metadata": {
        "id": "3Z7EnPVN03R5",
        "outputId": "1d7be50d-460c-4b15-9ff9-02b2479353ba"
      },
      "outputs": [
        {
          "name": "stdout",
          "output_type": "stream",
          "text": [
            "512.0\n"
          ]
        }
      ],
      "source": [
        "# Permutations Code\n",
        "import math\n",
        "n = 8\n",
        "k = 3\n",
        "\n",
        "# Determine permutations and print result\n",
        "Permutations = math.pow(8,3)\n",
        "print(Permutations)"
      ]
    },
    {
      "cell_type": "markdown",
      "metadata": {
        "id": "0-QJ5Ied03R5"
      },
      "source": [
        "Permutation - example 2 :\n",
        "\n",
        "If three alphabets are to be chosen from A, B, C, D and E such that repetition is not allowed then in how many ways it can be done?"
      ]
    },
    {
      "cell_type": "markdown",
      "metadata": {
        "id": "WgCba4Ei03R5"
      },
      "source": [
        "![Capture.JPG](attachment:Capture.JPG)"
      ]
    },
    {
      "cell_type": "code",
      "execution_count": null,
      "metadata": {
        "id": "0pvl_hYl03R5",
        "outputId": "b6ef4fde-6a27-4c24-a7ae-8e820f8b0c5a"
      },
      "outputs": [
        {
          "name": "stdout",
          "output_type": "stream",
          "text": [
            "60.0    Possible ways\n"
          ]
        }
      ],
      "source": [
        "n = 5\n",
        "k = 3\n",
        "\n",
        "Permutations = math.factorial(n) / math.factorial(n - k)\n",
        "print(Permutations,\"   Possible ways\")"
      ]
    },
    {
      "cell_type": "markdown",
      "metadata": {
        "id": "XGNcpC2I03R6"
      },
      "source": [
        "# # Combination"
      ]
    },
    {
      "cell_type": "markdown",
      "metadata": {
        "id": "Rfs0wtk203R6"
      },
      "source": [
        "Combination - Example 1\n",
        "Total people :  A B C D E F G H\n",
        "How many ways can I give 3 tin cans to 8 people?\n",
        "\n"
      ]
    },
    {
      "cell_type": "markdown",
      "metadata": {
        "id": "ux48TkT403R6"
      },
      "source": [
        "![image.png](attachment:image.png)"
      ]
    },
    {
      "cell_type": "code",
      "execution_count": null,
      "metadata": {
        "id": "4GCdFabe03R7",
        "outputId": "dcae1c10-8466-464b-9248-ceb6b96767ce"
      },
      "outputs": [
        {
          "name": "stdout",
          "output_type": "stream",
          "text": [
            "56.0\n"
          ]
        }
      ],
      "source": [
        "# Combinations Code\n",
        "n = 8\n",
        "k = 3\n",
        "\n",
        "# Determine Combinations and print result\n",
        "Combinations = math.factorial(n) / ( math.factorial(n - k) * math.factorial(k) )\n",
        "print(Combinations)"
      ]
    },
    {
      "cell_type": "markdown",
      "metadata": {
        "id": "EWcAyfze03R7"
      },
      "source": [
        "# Joint probability"
      ]
    },
    {
      "cell_type": "markdown",
      "metadata": {
        "id": "_VeVaVBb03R8"
      },
      "source": [
        "![image.png](attachment:image.png)"
      ]
    },
    {
      "cell_type": "code",
      "execution_count": null,
      "metadata": {
        "id": "8BFMcpTg03R8"
      },
      "outputs": [],
      "source": [
        "## example - what is the probability to get NUmber 2 and in red color\n"
      ]
    },
    {
      "cell_type": "code",
      "execution_count": null,
      "metadata": {
        "id": "uhiPdM6603R8"
      },
      "outputs": [],
      "source": [
        "## 52 cars in a deck\n",
        "## total 4 card for #2 cards, when we filter those 4 card which is number 2 with red colour \n",
        "## we will have only 2 card with number 2\n",
        "## Probability(2 and red) = 2/52 = 1/26"
      ]
    },
    {
      "cell_type": "code",
      "execution_count": null,
      "metadata": {
        "id": "6qBXxG2m03R9",
        "outputId": "f6dc6014-3de9-4d39-bed0-0d4f04496fcc"
      },
      "outputs": [
        {
          "data": {
            "text/plain": [
              "0.038461538461538464"
            ]
          },
          "execution_count": 20,
          "metadata": {},
          "output_type": "execute_result"
        }
      ],
      "source": [
        "prob_2red = 2/52\n",
        "prob_2red"
      ]
    },
    {
      "cell_type": "code",
      "execution_count": null,
      "metadata": {
        "id": "CF8UUgpu03R9"
      },
      "outputs": [],
      "source": [
        "# Joint Probability - Example 2"
      ]
    },
    {
      "cell_type": "markdown",
      "metadata": {
        "id": "Ngmql_c403R9"
      },
      "source": [
        "At a popular company service center, a total of 100 complaints were received. 80 customers complained about late delivery of the items and 60 complained about poor product quality.\n",
        "\n",
        " Calculate the probability that a customer complaint will be about both product quality and late delivery.\n"
      ]
    },
    {
      "cell_type": "code",
      "execution_count": null,
      "metadata": {
        "id": "wRvDkk-Q03R-"
      },
      "outputs": [],
      "source": [
        "# solution"
      ]
    },
    {
      "cell_type": "markdown",
      "metadata": {
        "id": "fLTOEAER03R-"
      },
      "source": [
        "Let\n",
        "\n",
        "L = Late delivery\n",
        "\n",
        "Q = Poor quality\n",
        "\n",
        "n(L) = Number of cases in favour of L = 80\n",
        "\n",
        "n(Q) = Number of cases in favour of Q = 60\n",
        "\n",
        "N = Total Number of complaints = 100"
      ]
    },
    {
      "cell_type": "code",
      "execution_count": null,
      "metadata": {
        "id": "XwhDW2-S03R-",
        "outputId": "e1b3d551-8909-460b-f69c-5875cc38d09d"
      },
      "outputs": [
        {
          "name": "stdout",
          "output_type": "stream",
          "text": [
            "Probability that a customer complaint will\n",
            "       be about both product quality and late delivery. is 0.4000\n"
          ]
        }
      ],
      "source": [
        "FE4 = 40 # = (80 + 60) - 100 \n",
        "TE  = 100\n",
        "PE4 = round(FE4 / TE,4) \n",
        "print('Probability that a customer complaint will\\n\\\n",
        "       be about both product quality and late delivery. is %1.4f' % PE4)"
      ]
    },
    {
      "cell_type": "markdown",
      "metadata": {
        "id": "yON2L31F03R_"
      },
      "source": [
        "# # Independent event"
      ]
    },
    {
      "cell_type": "markdown",
      "metadata": {
        "id": "YsoVjCnt03R_"
      },
      "source": [
        "Two events, A and B are independent if and only if P(A | B) = P(A),\n",
        "\n",
        "where\n",
        "\n",
        "P(A|B) is the conditional probability of A given B\n",
        "\n",
        "P(A) is the marginal probability of A"
      ]
    },
    {
      "cell_type": "markdown",
      "metadata": {
        "id": "CNnVF2L103R_"
      },
      "source": [
        "# Example :\n",
        "\n",
        "What is the probability of getting a \"6\" in two consecutive trials when rolling a dice?\n",
        "\n",
        "For each roll of a dice:\n",
        "\n",
        "Favorable events = {\"6\"}\n",
        "\n",
        "Total number of outcomes = {\"1\",\"2\",\"3\",\"4\",\"5\",\"6\"}\n",
        "\n",
        "Let P1 be the probability of getting a \"6\" in the first roll of dice\n",
        ".\n",
        "Let P2 be the probability of getting a \"6\" in the second roll of dice.\n",
        "\n",
        "Since first roll of dice does not influence the second roll of dice, these events are independent."
      ]
    },
    {
      "cell_type": "code",
      "execution_count": null,
      "metadata": {
        "id": "MMh3Mbm103R_",
        "outputId": "ec27e4e0-73e5-4b91-efa0-4a2dc1972f73"
      },
      "outputs": [
        {
          "name": "stdout",
          "output_type": "stream",
          "text": [
            "Getting a 6 in two consecutive rolls of dice is 0.0278\n"
          ]
        }
      ],
      "source": [
        "P1 = 1 / 6\n",
        "P2 = 1 / 6\n",
        "P   =  P1 * P2 # P = P(Getting a 6 in two consecutive rolls of dice)\n",
        "print('Getting a 6 in two consecutive rolls of dice is %1.4f' % P) "
      ]
    }
  ],
  "metadata": {
    "kernelspec": {
      "display_name": "Python 3",
      "language": "python",
      "name": "python3"
    },
    "language_info": {
      "codemirror_mode": {
        "name": "ipython",
        "version": 3
      },
      "file_extension": ".py",
      "mimetype": "text/x-python",
      "name": "python",
      "nbconvert_exporter": "python",
      "pygments_lexer": "ipython3",
      "version": "3.8.5"
    },
    "colab": {
      "provenance": []
    }
  },
  "nbformat": 4,
  "nbformat_minor": 0
}